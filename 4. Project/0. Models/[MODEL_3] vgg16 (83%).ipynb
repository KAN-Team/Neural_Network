{
 "cells": [
  {
   "cell_type": "markdown",
   "id": "70ffbf45",
   "metadata": {
    "papermill": {
     "duration": 0.034334,
     "end_time": "2022-05-25T02:38:23.929797",
     "exception": false,
     "start_time": "2022-05-25T02:38:23.895463",
     "status": "completed"
    },
    "tags": []
   },
   "source": [
    "## Step 1: Explore Data"
   ]
  },
  {
   "cell_type": "code",
   "execution_count": 1,
   "id": "24657bd4",
   "metadata": {
    "execution": {
     "iopub.execute_input": "2022-05-25T02:38:23.999506Z",
     "iopub.status.busy": "2022-05-25T02:38:23.999097Z",
     "iopub.status.idle": "2022-05-25T02:38:24.382025Z",
     "shell.execute_reply": "2022-05-25T02:38:24.381247Z"
    },
    "papermill": {
     "duration": 0.420388,
     "end_time": "2022-05-25T02:38:24.384837",
     "exception": false,
     "start_time": "2022-05-25T02:38:23.964449",
     "status": "completed"
    },
    "tags": []
   },
   "outputs": [
    {
     "name": "stdout",
     "output_type": "stream",
     "text": [
      "Train Directory Content:  ['hail', 'rainbow', 'frost', 'rime', 'fogsmog', 'snow', 'rain', 'glaze', 'lightning', 'sandstorm', 'dew']\n",
      "Test Directory # of files:  1300\n"
     ]
    }
   ],
   "source": [
    "import os\n",
    "import warnings\n",
    "warnings.filterwarnings('ignore')\n",
    "\n",
    "# Displaying Train Content\n",
    "data_dir_list = os.listdir('../input/nn22-weather-analysis-using-image-recognition/Dataset/Train')\n",
    "print(\"Train Directory Content: \", data_dir_list)\n",
    "\n",
    "# Displaying Test files\n",
    "path, dirs, files = next(os.walk('../input/nn22-weather-analysis-using-image-recognition/Dataset/Test'))\n",
    "file_count = len(files)\n",
    "print(\"Test Directory # of files: \", file_count)"
   ]
  },
  {
   "cell_type": "markdown",
   "id": "6862678f",
   "metadata": {
    "papermill": {
     "duration": 0.052734,
     "end_time": "2022-05-25T02:38:24.490054",
     "exception": false,
     "start_time": "2022-05-25T02:38:24.437320",
     "status": "completed"
    },
    "tags": []
   },
   "source": [
    "## Step 2: Train-Valid Split"
   ]
  },
  {
   "cell_type": "markdown",
   "id": "c7155430",
   "metadata": {
    "papermill": {
     "duration": 0.053492,
     "end_time": "2022-05-25T02:38:24.598478",
     "exception": false,
     "start_time": "2022-05-25T02:38:24.544986",
     "status": "completed"
    },
    "tags": []
   },
   "source": [
    "### Step 2.1: Establishing Working Directories"
   ]
  },
  {
   "cell_type": "code",
   "execution_count": 2,
   "id": "eeb8632e",
   "metadata": {
    "execution": {
     "iopub.execute_input": "2022-05-25T02:38:24.716528Z",
     "iopub.status.busy": "2022-05-25T02:38:24.716224Z",
     "iopub.status.idle": "2022-05-25T02:38:24.720419Z",
     "shell.execute_reply": "2022-05-25T02:38:24.719703Z"
    },
    "papermill": {
     "duration": 0.06563,
     "end_time": "2022-05-25T02:38:24.725148",
     "exception": false,
     "start_time": "2022-05-25T02:38:24.659518",
     "status": "completed"
    },
    "tags": []
   },
   "outputs": [],
   "source": [
    "# making base directory for train-valid splitting\n",
    "base_dir = './weather-data/'\n",
    "os.mkdir(base_dir)"
   ]
  },
  {
   "cell_type": "code",
   "execution_count": 3,
   "id": "9407c29f",
   "metadata": {
    "execution": {
     "iopub.execute_input": "2022-05-25T02:38:24.857648Z",
     "iopub.status.busy": "2022-05-25T02:38:24.857348Z",
     "iopub.status.idle": "2022-05-25T02:38:24.902269Z",
     "shell.execute_reply": "2022-05-25T02:38:24.901383Z"
    },
    "papermill": {
     "duration": 0.108535,
     "end_time": "2022-05-25T02:38:24.905456",
     "exception": false,
     "start_time": "2022-05-25T02:38:24.796921",
     "status": "completed"
    },
    "tags": []
   },
   "outputs": [],
   "source": [
    "# creating two folders (train and valid)\n",
    "train_dir = os.path.join(base_dir, 'train')\n",
    "os.mkdir(train_dir)\n",
    "\n",
    "valid_dir = os.path.join(base_dir, 'valid')\n",
    "os.mkdir(valid_dir)\n",
    "\n",
    "# creating eleven directories inside 'train' directory \n",
    "# ('rainbow', 'rain', 'hail', 'lightning', 'fogsmog', 'snow', 'glaze', 'rime', 'frost', 'sandstorm', 'dew')\n",
    "#0\n",
    "train_rainbow_dir = os.path.join(train_dir, 'rainbow')\n",
    "os.mkdir(train_rainbow_dir)\n",
    "#1\n",
    "train_rain_dir = os.path.join(train_dir, 'rain')\n",
    "os.mkdir(train_rain_dir)\n",
    "#2\n",
    "train_hail_dir = os.path.join(train_dir, 'hail')\n",
    "os.mkdir(train_hail_dir)\n",
    "#3\n",
    "train_lightning_dir = os.path.join(train_dir, 'lightning')\n",
    "os.mkdir(train_lightning_dir)\n",
    "#4\n",
    "train_fogsmog_dir = os.path.join(train_dir, 'fogsmog')\n",
    "os.mkdir(train_fogsmog_dir)\n",
    "#5\n",
    "train_snow_dir = os.path.join(train_dir, 'snow')\n",
    "os.mkdir(train_snow_dir)\n",
    "#6\n",
    "train_glaze_dir = os.path.join(train_dir, 'glaze')\n",
    "os.mkdir(train_glaze_dir)\n",
    "#7\n",
    "train_rime_dir = os.path.join(train_dir, 'rime')\n",
    "os.mkdir(train_rime_dir)\n",
    "#8\n",
    "train_frost_dir = os.path.join(train_dir, 'frost')\n",
    "os.mkdir(train_frost_dir)\n",
    "#9\n",
    "train_sandstorm_dir = os.path.join(train_dir, 'sandstorm')\n",
    "os.mkdir(train_sandstorm_dir)\n",
    "#10\n",
    "train_dew_dir = os.path.join(train_dir, 'dew')\n",
    "os.mkdir(train_dew_dir)\n",
    "\n",
    "# creating eleven directories inside 'valid' directory \n",
    "# ('rainbow', 'rain', 'hail', 'lightning', 'fogsmog', 'snow', 'glaze', 'rime', 'frost', 'sandstorm', 'dew')\n",
    "#0\n",
    "valid_rainbow_dir = os.path.join(valid_dir, 'rainbow')\n",
    "os.mkdir(valid_rainbow_dir)\n",
    "#1\n",
    "valid_rain_dir = os.path.join(valid_dir, 'rain')\n",
    "os.mkdir(valid_rain_dir)\n",
    "#2\n",
    "valid_hail_dir = os.path.join(valid_dir, 'hail')\n",
    "os.mkdir(valid_hail_dir)\n",
    "#3\n",
    "valid_lightning_dir = os.path.join(valid_dir, 'lightning')\n",
    "os.mkdir(valid_lightning_dir)\n",
    "#4\n",
    "valid_fogsmog_dir = os.path.join(valid_dir, 'fogsmog')\n",
    "os.mkdir(valid_fogsmog_dir)\n",
    "#5\n",
    "valid_snow_dir = os.path.join(valid_dir, 'snow')\n",
    "os.mkdir(valid_snow_dir)\n",
    "#6\n",
    "valid_glaze_dir = os.path.join(valid_dir, 'glaze')\n",
    "os.mkdir(valid_glaze_dir)\n",
    "#7\n",
    "valid_rime_dir = os.path.join(valid_dir, 'rime')\n",
    "os.mkdir(valid_rime_dir)\n",
    "#8\n",
    "valid_frost_dir = os.path.join(valid_dir, 'frost')\n",
    "os.mkdir(valid_frost_dir)\n",
    "#9\n",
    "valid_sandstorm_dir = os.path.join(valid_dir, 'sandstorm')\n",
    "os.mkdir(valid_sandstorm_dir)\n",
    "#10\n",
    "valid_dew_dir = os.path.join(valid_dir, 'dew')\n",
    "os.mkdir(valid_dew_dir)"
   ]
  },
  {
   "cell_type": "code",
   "execution_count": 4,
   "id": "48bdcd02",
   "metadata": {
    "execution": {
     "iopub.execute_input": "2022-05-25T02:38:25.038641Z",
     "iopub.status.busy": "2022-05-25T02:38:25.038335Z",
     "iopub.status.idle": "2022-05-25T02:38:25.055031Z",
     "shell.execute_reply": "2022-05-25T02:38:25.054237Z"
    },
    "papermill": {
     "duration": 0.089536,
     "end_time": "2022-05-25T02:38:25.057760",
     "exception": false,
     "start_time": "2022-05-25T02:38:24.968224",
     "status": "completed"
    },
    "tags": []
   },
   "outputs": [],
   "source": [
    "import random\n",
    "from shutil import copyfile\n",
    "\n",
    "def train_valid_split(src_dir, train_dir, valid_dir, split_size):\n",
    "    files = []\n",
    "    for filename in os.listdir(src_dir):\n",
    "        file = os.path.join(src_dir, filename)\n",
    "        if os.path.getsize(file) > 0:\n",
    "            files.append(filename)\n",
    "        else:\n",
    "            print(filename + \"is ignored as it cannot be fetched!!\")\n",
    "\n",
    "    # shuffling train data and splitting into train and valid sets\n",
    "    train_size = int(len(files) * split_size)\n",
    "    valid_size = int(len(files) - train_size)\n",
    "    shuffled_set = random.sample(files, len(files))\n",
    "    train_set = shuffled_set[0:train_size]\n",
    "    valid_set = shuffled_set[train_size:]\n",
    "    \n",
    "    # copying train set files from source to destination \n",
    "    for filename in train_set:\n",
    "        curr_file = os.path.join(src_dir, filename)\n",
    "        move_dest = os.path.join(train_dir, filename)\n",
    "        copyfile(curr_file, move_dest)\n",
    "    \n",
    "    # copying valid set files from source to destination \n",
    "    for filename in valid_set:\n",
    "        curr_file = os.path.join(src_dir, filename)\n",
    "        move_dest = os.path.join(valid_dir, filename)\n",
    "        copyfile(curr_file, move_dest)"
   ]
  },
  {
   "cell_type": "code",
   "execution_count": 5,
   "id": "91d8e947",
   "metadata": {
    "execution": {
     "iopub.execute_input": "2022-05-25T02:38:25.286512Z",
     "iopub.status.busy": "2022-05-25T02:38:25.286138Z",
     "iopub.status.idle": "2022-05-25T02:38:25.328085Z",
     "shell.execute_reply": "2022-05-25T02:38:25.327312Z"
    },
    "papermill": {
     "duration": 0.183692,
     "end_time": "2022-05-25T02:38:25.331302",
     "exception": false,
     "start_time": "2022-05-25T02:38:25.147610",
     "status": "completed"
    },
    "tags": []
   },
   "outputs": [],
   "source": [
    "import os\n",
    "\n",
    "TRAIN_SRC_DIR = '../input/nn22-weather-analysis-using-image-recognition/Dataset/Train/'\n",
    "TRAIN_DIR = './weather-data/train/'\n",
    "VALID_DIR = './weather-data/valid/'\n",
    "\n",
    "#0\n",
    "DEW_SOURCE_DIR = os.path.join(TRAIN_SRC_DIR, 'dew')\n",
    "DEW_TRAIN_DIR = os.path.join(TRAIN_DIR, 'dew')\n",
    "DEW_VALID_DIR = os.path.join(VALID_DIR, 'dew')\n",
    "\n",
    "#1\n",
    "FOGSMOG_SOURCE_DIR = os.path.join(TRAIN_SRC_DIR, 'fogsmog')\n",
    "FOGSMOG_TRAIN_DIR = os.path.join(TRAIN_DIR, 'fogsmog')\n",
    "FOGSMOG_VALID_DIR = os.path.join(VALID_DIR, 'fogsmog')\n",
    "\n",
    "#2\n",
    "FROST_SOURCE_DIR = os.path.join(TRAIN_SRC_DIR, 'frost')\n",
    "FROST_TRAIN_DIR = os.path.join(TRAIN_DIR, 'frost')\n",
    "FROST_VALID_DIR = os.path.join(VALID_DIR, 'frost')\n",
    "\n",
    "#3\n",
    "GLAZE_SOURCE_DIR = os.path.join(TRAIN_SRC_DIR, 'glaze')\n",
    "GLAZE_TRAIN_DIR = os.path.join(TRAIN_DIR, 'glaze')\n",
    "GLAZE_VALID_DIR = os.path.join(VALID_DIR, 'glaze')\n",
    "\n",
    "#4\n",
    "HAIL_SOURCE_DIR = os.path.join(TRAIN_SRC_DIR, 'hail')\n",
    "HAIL_TRAIN_DIR = os.path.join(TRAIN_DIR, 'hail')\n",
    "HAIL_VALID_DIR = os.path.join(VALID_DIR, 'hail')\n",
    "\n",
    "#5\n",
    "LIGHTNING_SOURCE_DIR = os.path.join(TRAIN_SRC_DIR, 'lightning')\n",
    "LIGHTNING_TRAIN_DIR = os.path.join(TRAIN_DIR, 'lightning')\n",
    "LIGHTNING_VALID_DIR = os.path.join(VALID_DIR, 'lightning')\n",
    "\n",
    "#6\n",
    "RAIN_SOURCE_DIR = os.path.join(TRAIN_SRC_DIR, 'rain')\n",
    "RAIN_TRAIN_DIR = os.path.join(TRAIN_DIR, 'rain')\n",
    "RAIN_VALID_DIR = os.path.join(VALID_DIR, 'rain')\n",
    "\n",
    "#7\n",
    "RAINBOW_SOURCE_DIR = os.path.join(TRAIN_SRC_DIR, 'rainbow')\n",
    "RAINBOW_TRAIN_DIR = os.path.join(TRAIN_DIR, 'rainbow')\n",
    "RAINBOW_VALID_DIR = os.path.join(VALID_DIR, 'rainbow')\n",
    "\n",
    "#8\n",
    "RIME_SOURCE_DIR = os.path.join(TRAIN_SRC_DIR, 'rime')\n",
    "RIME_TRAIN_DIR = os.path.join(TRAIN_DIR, 'rime')\n",
    "RIME_VALID_DIR = os.path.join(VALID_DIR, 'rime')\n",
    "\n",
    "#9\n",
    "SANDSTORM_SOURCE_DIR = os.path.join(TRAIN_SRC_DIR, 'sandstorm')\n",
    "SANDSTORM_TRAIN_DIR = os.path.join(TRAIN_DIR, 'sandstorm')\n",
    "SANDSTORM_VALID_DIR = os.path.join(VALID_DIR, 'sandstorm')\n",
    "\n",
    "#10\n",
    "SNOW_SOURCE_DIR = os.path.join(TRAIN_SRC_DIR, 'snow')\n",
    "SNOW_TRAIN_DIR = os.path.join(TRAIN_DIR, 'snow')\n",
    "SNOW_VALID_DIR = os.path.join(VALID_DIR, 'snow')"
   ]
  },
  {
   "cell_type": "code",
   "execution_count": 6,
   "id": "2b282c31",
   "metadata": {
    "execution": {
     "iopub.execute_input": "2022-05-25T02:38:25.593201Z",
     "iopub.status.busy": "2022-05-25T02:38:25.592872Z",
     "iopub.status.idle": "2022-05-25T02:38:57.736487Z",
     "shell.execute_reply": "2022-05-25T02:38:57.735469Z"
    },
    "papermill": {
     "duration": 32.275951,
     "end_time": "2022-05-25T02:38:57.739360",
     "exception": false,
     "start_time": "2022-05-25T02:38:25.463409",
     "status": "completed"
    },
    "tags": []
   },
   "outputs": [],
   "source": [
    "split_portion = .90\n",
    "\n",
    "# splitting each class into train-validation sets\n",
    "train_valid_split(DEW_SOURCE_DIR, DEW_TRAIN_DIR, DEW_VALID_DIR, split_portion)\n",
    "train_valid_split(FOGSMOG_SOURCE_DIR, FOGSMOG_TRAIN_DIR, FOGSMOG_VALID_DIR, split_portion)\n",
    "train_valid_split(FROST_SOURCE_DIR, FROST_TRAIN_DIR, FROST_VALID_DIR, split_portion)\n",
    "train_valid_split(GLAZE_SOURCE_DIR, GLAZE_TRAIN_DIR, GLAZE_VALID_DIR, split_portion)\n",
    "train_valid_split(HAIL_SOURCE_DIR, HAIL_TRAIN_DIR, HAIL_VALID_DIR, split_portion)\n",
    "train_valid_split(LIGHTNING_SOURCE_DIR, LIGHTNING_TRAIN_DIR, LIGHTNING_VALID_DIR, split_portion)\n",
    "train_valid_split(RAIN_SOURCE_DIR, RAIN_TRAIN_DIR, RAIN_VALID_DIR, split_portion)\n",
    "train_valid_split(RAINBOW_SOURCE_DIR, RAINBOW_TRAIN_DIR, RAINBOW_VALID_DIR, split_portion)\n",
    "train_valid_split(RIME_SOURCE_DIR, RIME_TRAIN_DIR, RIME_VALID_DIR, split_portion)\n",
    "train_valid_split(SANDSTORM_SOURCE_DIR, SANDSTORM_TRAIN_DIR, SANDSTORM_VALID_DIR, split_portion)\n",
    "train_valid_split(SNOW_SOURCE_DIR, SNOW_TRAIN_DIR, SNOW_VALID_DIR, split_portion)"
   ]
  },
  {
   "cell_type": "markdown",
   "id": "4a73cbfb",
   "metadata": {
    "papermill": {
     "duration": 0.071629,
     "end_time": "2022-05-25T02:38:57.896591",
     "exception": false,
     "start_time": "2022-05-25T02:38:57.824962",
     "status": "completed"
    },
    "tags": []
   },
   "source": [
    "### Step 2.2: Train-Valid Analysis"
   ]
  },
  {
   "cell_type": "code",
   "execution_count": 7,
   "id": "5b8640a2",
   "metadata": {
    "execution": {
     "iopub.execute_input": "2022-05-25T02:38:58.054723Z",
     "iopub.status.busy": "2022-05-25T02:38:58.050119Z",
     "iopub.status.idle": "2022-05-25T02:38:59.358315Z",
     "shell.execute_reply": "2022-05-25T02:38:59.357585Z"
    },
    "papermill": {
     "duration": 1.385602,
     "end_time": "2022-05-25T02:38:59.360491",
     "exception": false,
     "start_time": "2022-05-25T02:38:57.974889",
     "status": "completed"
    },
    "tags": []
   },
   "outputs": [],
   "source": [
    "import matplotlib.pyplot as plt\n",
    "import seaborn as sns\n",
    "from matplotlib.image import imread\n",
    "import pathlib\n",
    "\n",
    "class_labels = ['rainbow', 'rain', 'hail', 'lightning', 'fogsmog', 'snow', 'glaze', 'rime', 'frost', 'sandstorm', 'dew']\n",
    "def plot_classes_distributions(dir_path, plot_title):\n",
    "    class_imgs_num = {}\n",
    "    for lbl in class_labels:\n",
    "        class_imgs_num[lbl] = len(os.listdir(dir_path+lbl+'/'))\n",
    "\n",
    "    plt.figure(figsize=(9, 6))\n",
    "    plt.bar(range(len(class_imgs_num)), list(class_imgs_num.values()), align='center')\n",
    "    plt.xticks(range(len(class_imgs_num)), list(class_imgs_num.keys()))\n",
    "    plt.title(plot_title)\n",
    "    plt.show()"
   ]
  },
  {
   "cell_type": "code",
   "execution_count": 8,
   "id": "8f300740",
   "metadata": {
    "execution": {
     "iopub.execute_input": "2022-05-25T02:38:59.429825Z",
     "iopub.status.busy": "2022-05-25T02:38:59.429111Z",
     "iopub.status.idle": "2022-05-25T02:38:59.675497Z",
     "shell.execute_reply": "2022-05-25T02:38:59.674854Z"
    },
    "papermill": {
     "duration": 0.282864,
     "end_time": "2022-05-25T02:38:59.677307",
     "exception": false,
     "start_time": "2022-05-25T02:38:59.394443",
     "status": "completed"
    },
    "tags": []
   },
   "outputs": [
    {
     "data": {
      "image/png": "[encoded data removed]",
      "text/plain": [
       "<Figure size 648x432 with 1 Axes>"
      ]
     },
     "metadata": {
      "needs_background": "light"
     },
     "output_type": "display_data"
    }
   ],
   "source": [
    "plot_classes_distributions(TRAIN_DIR, 'Distribution of all classes in the Train Set')"
   ]
  },
  {
   "cell_type": "code",
   "execution_count": 9,
   "id": "ceff694c",
   "metadata": {
    "execution": {
     "iopub.execute_input": "2022-05-25T02:38:59.750446Z",
     "iopub.status.busy": "2022-05-25T02:38:59.750180Z",
     "iopub.status.idle": "2022-05-25T02:38:59.955067Z",
     "shell.execute_reply": "2022-05-25T02:38:59.954374Z"
    },
    "papermill": {
     "duration": 0.243617,
     "end_time": "2022-05-25T02:38:59.956889",
     "exception": false,
     "start_time": "2022-05-25T02:38:59.713272",
     "status": "completed"
    },
    "tags": []
   },
   "outputs": [
    {
     "data": {
      "image/png": "[encoded data removed]",
      "text/plain": [
       "<Figure size 648x432 with 1 Axes>"
      ]
     },
     "metadata": {
      "needs_background": "light"
     },
     "output_type": "display_data"
    }
   ],
   "source": [
    "plot_classes_distributions(VALID_DIR, 'Distribution of all classes in the Valid Set')"
   ]
  },
  {
   "cell_type": "code",
   "execution_count": 10,
   "id": "f603c2bb",
   "metadata": {
    "execution": {
     "iopub.execute_input": "2022-05-25T02:39:00.028708Z",
     "iopub.status.busy": "2022-05-25T02:39:00.028027Z",
     "iopub.status.idle": "2022-05-25T02:39:00.043620Z",
     "shell.execute_reply": "2022-05-25T02:39:00.042094Z"
    },
    "papermill": {
     "duration": 0.05392,
     "end_time": "2022-05-25T02:39:00.045863",
     "exception": false,
     "start_time": "2022-05-25T02:38:59.991943",
     "status": "completed"
    },
    "tags": []
   },
   "outputs": [
    {
     "name": "stdout",
     "output_type": "stream",
     "text": [
      "# of Train rainbow images are: 117\n",
      "# of Train rain images are: 346\n",
      "# of Train hail images are: 405\n",
      "# of Train lightning images are: 248\n",
      "# of Train fogsmog images are: 675\n",
      "# of Train snow images are: 468\n",
      "# of Train glaze images are: 484\n",
      "# of Train rime images are: 953\n",
      "# of Train frost images are: 300\n",
      "# of Train sandstorm images are: 495\n",
      "# of Train dew images are: 501\n",
      "========================================\n",
      "# of Valid rainbow images are: 14\n",
      "# of Valid rain images are: 39\n",
      "# of Valid hail images are: 45\n",
      "# of Valid lightning images are: 28\n",
      "# of Valid fogsmog images are: 75\n",
      "# of Valid snow images are: 52\n",
      "# of Valid glaze images are: 54\n",
      "# of Valid rime images are: 106\n",
      "# of Valid frost images are: 34\n",
      "# of Valid sandstorm images are: 56\n",
      "# of Valid dew images are: 56\n"
     ]
    }
   ],
   "source": [
    "for lbl in class_labels:\n",
    "    print('# of Train {} images are: '.format(lbl) + str(len(os.listdir(TRAIN_DIR + lbl +'/'))))\n",
    "    \n",
    "print('========================================')\n",
    "\n",
    "for lbl in class_labels:\n",
    "    print('# of Valid {} images are: '.format(lbl) + str(len(os.listdir(VALID_DIR + lbl +'/'))))"
   ]
  },
  {
   "cell_type": "markdown",
   "id": "8d07945a",
   "metadata": {
    "papermill": {
     "duration": 0.03542,
     "end_time": "2022-05-25T02:39:00.117764",
     "exception": false,
     "start_time": "2022-05-25T02:39:00.082344",
     "status": "completed"
    },
    "tags": []
   },
   "source": [
    "## Step 3: Deep Learning with Data Augmentation"
   ]
  },
  {
   "cell_type": "markdown",
   "id": "fe028bc7",
   "metadata": {
    "papermill": {
     "duration": 0.035445,
     "end_time": "2022-05-25T02:39:00.189725",
     "exception": false,
     "start_time": "2022-05-25T02:39:00.154280",
     "status": "completed"
    },
    "tags": []
   },
   "source": [
    "### Step 3.1: Image Data Generator"
   ]
  },
  {
   "cell_type": "code",
   "execution_count": 11,
   "id": "c26c1f05",
   "metadata": {
    "execution": {
     "iopub.execute_input": "2022-05-25T02:39:00.263154Z",
     "iopub.status.busy": "2022-05-25T02:39:00.262443Z",
     "iopub.status.idle": "2022-05-25T02:39:06.281953Z",
     "shell.execute_reply": "2022-05-25T02:39:06.281089Z"
    },
    "papermill": {
     "duration": 6.059388,
     "end_time": "2022-05-25T02:39:06.284234",
     "exception": false,
     "start_time": "2022-05-25T02:39:00.224846",
     "status": "completed"
    },
    "tags": []
   },
   "outputs": [
    {
     "name": "stdout",
     "output_type": "stream",
     "text": [
      "Found 4992 images belonging to 11 classes.\n"
     ]
    }
   ],
   "source": [
    "IMG_WIDTH = 224\n",
    "IMG_HEIGHT = 224\n",
    "BATCH_SIZE = 16\n",
    "\n",
    "from tensorflow.keras.preprocessing.image import ImageDataGenerator\n",
    "train_datagen = ImageDataGenerator(rescale = 1/255.0,\n",
    "                                   rotation_range=30,\n",
    "                                   zoom_range=0.4,\n",
    "                                   width_shift_range=0.2,\n",
    "                                   height_shift_range=0.2,\n",
    "                                   shear_range=0.15,\n",
    "                                   horizontal_flip=True)\n",
    "\n",
    "train_generator = train_datagen.flow_from_directory(TRAIN_DIR,\n",
    "                                                    batch_size=BATCH_SIZE,\n",
    "                                                    class_mode='categorical',\n",
    "                                                    target_size=(IMG_HEIGHT, IMG_WIDTH))"
   ]
  },
  {
   "cell_type": "code",
   "execution_count": 12,
   "id": "29de709d",
   "metadata": {
    "execution": {
     "iopub.execute_input": "2022-05-25T02:39:06.360731Z",
     "iopub.status.busy": "2022-05-25T02:39:06.360234Z",
     "iopub.status.idle": "2022-05-25T02:39:06.468482Z",
     "shell.execute_reply": "2022-05-25T02:39:06.467628Z"
    },
    "papermill": {
     "duration": 0.149669,
     "end_time": "2022-05-25T02:39:06.471006",
     "exception": false,
     "start_time": "2022-05-25T02:39:06.321337",
     "status": "completed"
    },
    "tags": []
   },
   "outputs": [
    {
     "name": "stdout",
     "output_type": "stream",
     "text": [
      "Found 559 images belonging to 11 classes.\n"
     ]
    }
   ],
   "source": [
    "valid_datagen = ImageDataGenerator(rescale = 1/255.0)\n",
    "\n",
    "valid_generator = valid_datagen.flow_from_directory(VALID_DIR,\n",
    "                                                    batch_size=BATCH_SIZE,\n",
    "                                                    class_mode='categorical',\n",
    "                                                    target_size=(IMG_HEIGHT, IMG_WIDTH))"
   ]
  },
  {
   "cell_type": "markdown",
   "id": "de6c6f9f",
   "metadata": {
    "papermill": {
     "duration": 0.037235,
     "end_time": "2022-05-25T02:39:06.544540",
     "exception": false,
     "start_time": "2022-05-25T02:39:06.507305",
     "status": "completed"
    },
    "tags": []
   },
   "source": [
    "### Step 3.2: Building The Model"
   ]
  },
  {
   "cell_type": "code",
   "execution_count": 13,
   "id": "87588137",
   "metadata": {
    "execution": {
     "iopub.execute_input": "2022-05-25T02:39:06.620900Z",
     "iopub.status.busy": "2022-05-25T02:39:06.620240Z",
     "iopub.status.idle": "2022-05-25T02:39:06.639670Z",
     "shell.execute_reply": "2022-05-25T02:39:06.638941Z"
    },
    "papermill": {
     "duration": 0.060509,
     "end_time": "2022-05-25T02:39:06.641645",
     "exception": false,
     "start_time": "2022-05-25T02:39:06.581136",
     "status": "completed"
    },
    "tags": []
   },
   "outputs": [],
   "source": [
    "from tensorflow.keras.models import Sequential\n",
    "from tensorflow.keras.layers import Conv2D, MaxPooling2D, Flatten, Dense, Dropout, BatchNormalization, MaxPool2D, Activation\n",
    "\n",
    "def VGG16(W_IMG=IMG_WIDTH, H_IMG=IMG_HEIGHT, N_CLASSES=11):\n",
    "    model = Sequential()\n",
    "    model.add(Conv2D(input_shape=(W_IMG, H_IMG, 3),filters=64,kernel_size=(3,3),padding=\"same\", activation=\"relu\"))\n",
    "    model.add(Conv2D(filters=64,kernel_size=(3,3),padding=\"same\", activation=\"relu\"))\n",
    "    model.add(MaxPool2D(pool_size=(2,2),strides=(2,2)))\n",
    "    model.add(Conv2D(filters=128, kernel_size=(3,3), padding=\"same\", activation=\"relu\"))\n",
    "    model.add(Conv2D(filters=128, kernel_size=(3,3), padding=\"same\", activation=\"relu\"))\n",
    "    model.add(MaxPool2D(pool_size=(2,2),strides=(2,2)))\n",
    "    model.add(Conv2D(filters=256, kernel_size=(3,3), padding=\"same\", activation=\"relu\"))\n",
    "    model.add(Conv2D(filters=256, kernel_size=(3,3), padding=\"same\", activation=\"relu\"))\n",
    "    model.add(Conv2D(filters=256, kernel_size=(3,3), padding=\"same\", activation=\"relu\"))\n",
    "    model.add(MaxPool2D(pool_size=(2,2),strides=(2,2)))\n",
    "    model.add(Conv2D(filters=512, kernel_size=(3,3), padding=\"same\", activation=\"relu\"))\n",
    "    model.add(Conv2D(filters=512, kernel_size=(3,3), padding=\"same\", activation=\"relu\"))\n",
    "    model.add(Conv2D(filters=512, kernel_size=(3,3), padding=\"same\", activation=\"relu\"))\n",
    "    model.add(MaxPool2D(pool_size=(2,2),strides=(2,2)))\n",
    "    model.add(Conv2D(filters=512, kernel_size=(3,3), padding=\"same\", activation=\"relu\"))\n",
    "    model.add(Conv2D(filters=512, kernel_size=(3,3), padding=\"same\", activation=\"relu\"))\n",
    "    model.add(Conv2D(filters=512, kernel_size=(3,3), padding=\"same\", activation=\"relu\"))\n",
    "    model.add(MaxPool2D(pool_size=(2,2),strides=(2,2),name='vgg16'))\n",
    "    model.add(Flatten())\n",
    "    model.add(Dropout(0.3))\n",
    "    model.add(Dense(768, activation='relu', name='fc1'))\n",
    "    model.add(Dropout(0.25))\n",
    "    model.add(Dense(256, activation='relu', name='fc2'))\n",
    "    model.add(Dropout(0.25))\n",
    "    model.add(Dense(N_CLASSES, activation='softmax', name='output'))\n",
    "    return model"
   ]
  },
  {
   "cell_type": "code",
   "execution_count": 14,
   "id": "11368201",
   "metadata": {
    "execution": {
     "iopub.execute_input": "2022-05-25T02:39:06.717439Z",
     "iopub.status.busy": "2022-05-25T02:39:06.717167Z",
     "iopub.status.idle": "2022-05-25T02:39:09.931736Z",
     "shell.execute_reply": "2022-05-25T02:39:09.930715Z"
    },
    "papermill": {
     "duration": 3.255787,
     "end_time": "2022-05-25T02:39:09.933757",
     "exception": false,
     "start_time": "2022-05-25T02:39:06.677970",
     "status": "completed"
    },
    "tags": []
   },
   "outputs": [
    {
     "name": "stderr",
     "output_type": "stream",
     "text": [
      "2022-05-25 02:39:06.808468: I tensorflow/stream_executor/cuda/cuda_gpu_executor.cc:937] successful NUMA node read from SysFS had negative value (-1), but there must be at least one NUMA node, so returning NUMA node zero\n",
      "2022-05-25 02:39:06.957952: I tensorflow/stream_executor/cuda/cuda_gpu_executor.cc:937] successful NUMA node read from SysFS had negative value (-1), but there must be at least one NUMA node, so returning NUMA node zero\n",
      "2022-05-25 02:39:06.958863: I tensorflow/stream_executor/cuda/cuda_gpu_executor.cc:937] successful NUMA node read from SysFS had negative value (-1), but there must be at least one NUMA node, so returning NUMA node zero\n",
      "2022-05-25 02:39:06.960112: I tensorflow/core/platform/cpu_feature_guard.cc:142] This TensorFlow binary is optimized with oneAPI Deep Neural Network Library (oneDNN) to use the following CPU instructions in performance-critical operations:  AVX2 AVX512F FMA\n",
      "To enable them in other operations, rebuild TensorFlow with the appropriate compiler flags.\n",
      "2022-05-25 02:39:06.960433: I tensorflow/stream_executor/cuda/cuda_gpu_executor.cc:937] successful NUMA node read from SysFS had negative value (-1), but there must be at least one NUMA node, so returning NUMA node zero\n",
      "2022-05-25 02:39:06.961448: I tensorflow/stream_executor/cuda/cuda_gpu_executor.cc:937] successful NUMA node read from SysFS had negative value (-1), but there must be at least one NUMA node, so returning NUMA node zero\n",
      "2022-05-25 02:39:06.962185: I tensorflow/stream_executor/cuda/cuda_gpu_executor.cc:937] successful NUMA node read from SysFS had negative value (-1), but there must be at least one NUMA node, so returning NUMA node zero\n",
      "2022-05-25 02:39:09.391816: I tensorflow/stream_executor/cuda/cuda_gpu_executor.cc:937] successful NUMA node read from SysFS had negative value (-1), but there must be at least one NUMA node, so returning NUMA node zero\n",
      "2022-05-25 02:39:09.392620: I tensorflow/stream_executor/cuda/cuda_gpu_executor.cc:937] successful NUMA node read from SysFS had negative value (-1), but there must be at least one NUMA node, so returning NUMA node zero\n",
      "2022-05-25 02:39:09.393429: I tensorflow/stream_executor/cuda/cuda_gpu_executor.cc:937] successful NUMA node read from SysFS had negative value (-1), but there must be at least one NUMA node, so returning NUMA node zero\n",
      "2022-05-25 02:39:09.394773: I tensorflow/core/common_runtime/gpu/gpu_device.cc:1510] Created device /job:localhost/replica:0/task:0/device:GPU:0 with 15403 MB memory:  -> device: 0, name: Tesla P100-PCIE-16GB, pci bus id: 0000:00:04.0, compute capability: 6.0\n"
     ]
    },
    {
     "name": "stdout",
     "output_type": "stream",
     "text": [
      "Model: \"sequential\"\n",
      "_________________________________________________________________\n",
      "Layer (type)                 Output Shape              Param #   \n",
      "=================================================================\n",
      "conv2d (Conv2D)              (None, 224, 224, 64)      1792      \n",
      "_________________________________________________________________\n",
      "conv2d_1 (Conv2D)            (None, 224, 224, 64)      36928     \n",
      "_________________________________________________________________\n",
      "max_pooling2d (MaxPooling2D) (None, 112, 112, 64)      0         \n",
      "_________________________________________________________________\n",
      "conv2d_2 (Conv2D)            (None, 112, 112, 128)     73856     \n",
      "_________________________________________________________________\n",
      "conv2d_3 (Conv2D)            (None, 112, 112, 128)     147584    \n",
      "_________________________________________________________________\n",
      "max_pooling2d_1 (MaxPooling2 (None, 56, 56, 128)       0         \n",
      "_________________________________________________________________\n",
      "conv2d_4 (Conv2D)            (None, 56, 56, 256)       295168    \n",
      "_________________________________________________________________\n",
      "conv2d_5 (Conv2D)            (None, 56, 56, 256)       590080    \n",
      "_________________________________________________________________\n",
      "conv2d_6 (Conv2D)            (None, 56, 56, 256)       590080    \n",
      "_________________________________________________________________\n",
      "max_pooling2d_2 (MaxPooling2 (None, 28, 28, 256)       0         \n",
      "_________________________________________________________________\n",
      "conv2d_7 (Conv2D)            (None, 28, 28, 512)       1180160   \n",
      "_________________________________________________________________\n",
      "conv2d_8 (Conv2D)            (None, 28, 28, 512)       2359808   \n",
      "_________________________________________________________________\n",
      "conv2d_9 (Conv2D)            (None, 28, 28, 512)       2359808   \n",
      "_________________________________________________________________\n",
      "max_pooling2d_3 (MaxPooling2 (None, 14, 14, 512)       0         \n",
      "_________________________________________________________________\n",
      "conv2d_10 (Conv2D)           (None, 14, 14, 512)       2359808   \n",
      "_________________________________________________________________\n",
      "conv2d_11 (Conv2D)           (None, 14, 14, 512)       2359808   \n",
      "_________________________________________________________________\n",
      "conv2d_12 (Conv2D)           (None, 14, 14, 512)       2359808   \n",
      "_________________________________________________________________\n",
      "vgg16 (MaxPooling2D)         (None, 7, 7, 512)         0         \n",
      "_________________________________________________________________\n",
      "flatten (Flatten)            (None, 25088)             0         \n",
      "_________________________________________________________________\n",
      "dropout (Dropout)            (None, 25088)             0         \n",
      "_________________________________________________________________\n",
      "fc1 (Dense)                  (None, 768)               19268352  \n",
      "_________________________________________________________________\n",
      "dropout_1 (Dropout)          (None, 768)               0         \n",
      "_________________________________________________________________\n",
      "fc2 (Dense)                  (None, 256)               196864    \n",
      "_________________________________________________________________\n",
      "dropout_2 (Dropout)          (None, 256)               0         \n",
      "_________________________________________________________________\n",
      "output (Dense)               (None, 11)                2827      \n",
      "=================================================================\n",
      "Total params: 34,182,731\n",
      "Trainable params: 34,182,731\n",
      "Non-trainable params: 0\n",
      "_________________________________________________________________\n"
     ]
    }
   ],
   "source": [
    "import warnings\n",
    "warnings.filterwarnings('ignore')\n",
    "\n",
    "model = VGG16()\n",
    "model.summary()"
   ]
  },
  {
   "cell_type": "code",
   "execution_count": 15,
   "id": "932c9c21",
   "metadata": {
    "execution": {
     "iopub.execute_input": "2022-05-25T02:39:10.013536Z",
     "iopub.status.busy": "2022-05-25T02:39:10.013269Z",
     "iopub.status.idle": "2022-05-25T02:39:10.022524Z",
     "shell.execute_reply": "2022-05-25T02:39:10.021791Z"
    },
    "papermill": {
     "duration": 0.052006,
     "end_time": "2022-05-25T02:39:10.024807",
     "exception": false,
     "start_time": "2022-05-25T02:39:09.972801",
     "status": "completed"
    },
    "tags": []
   },
   "outputs": [],
   "source": [
    "from keras.models import Model\n",
    "Vgg16 = Model(inputs=model.input, outputs=model.get_layer('vgg16').output)"
   ]
  },
  {
   "cell_type": "code",
   "execution_count": 16,
   "id": "c6fed669",
   "metadata": {
    "execution": {
     "iopub.execute_input": "2022-05-25T02:39:10.105956Z",
     "iopub.status.busy": "2022-05-25T02:39:10.105602Z",
     "iopub.status.idle": "2022-05-25T02:39:11.097066Z",
     "shell.execute_reply": "2022-05-25T02:39:11.096194Z"
    },
    "papermill": {
     "duration": 1.032476,
     "end_time": "2022-05-25T02:39:11.099380",
     "exception": false,
     "start_time": "2022-05-25T02:39:10.066904",
     "status": "completed"
    },
    "tags": []
   },
   "outputs": [
    {
     "name": "stdout",
     "output_type": "stream",
     "text": [
      "Downloading data from https://github.com/fchollet/deep-learning-models/releases/download/v0.1/vgg16_weights_tf_dim_ordering_tf_kernels_notop.h5\n",
      "58892288/58889256 [==============================] - 1s 0us/step\n",
      "58900480/58889256 [==============================] - 1s 0us/step\n"
     ]
    }
   ],
   "source": [
    "import tensorflow as tf\n",
    "\n",
    "# Load weights\n",
    "WEIGHTS_PATH_NO_TOP = ('https://github.com/fchollet/deep-learning-models/'\n",
    "                       'releases/download/v0.1/'\n",
    "                       'vgg16_weights_tf_dim_ordering_tf_kernels_notop.h5')\n",
    "\n",
    "weights_path = tf.keras.utils.get_file(\n",
    "    'vgg16_weights_tf_dim_ordering_tf_kernels_notop.h5',\n",
    "    WEIGHTS_PATH_NO_TOP,\n",
    "    cache_subdir='models',\n",
    "    file_hash='6d6bbae143d832006294945121d1f1fc')\n",
    "\n",
    "Vgg16.load_weights(weights_path)"
   ]
  },
  {
   "cell_type": "code",
   "execution_count": 17,
   "id": "ed402a8f",
   "metadata": {
    "execution": {
     "iopub.execute_input": "2022-05-25T02:39:11.192533Z",
     "iopub.status.busy": "2022-05-25T02:39:11.192262Z",
     "iopub.status.idle": "2022-05-25T02:39:11.217787Z",
     "shell.execute_reply": "2022-05-25T02:39:11.217043Z"
    },
    "papermill": {
     "duration": 0.075841,
     "end_time": "2022-05-25T02:39:11.219626",
     "exception": false,
     "start_time": "2022-05-25T02:39:11.143785",
     "status": "completed"
    },
    "tags": []
   },
   "outputs": [
    {
     "name": "stdout",
     "output_type": "stream",
     "text": [
      "<keras.layers.convolutional.Conv2D object at 0x7f667fe8fe10> False\n",
      "<keras.layers.convolutional.Conv2D object at 0x7f667fda7690> False\n",
      "<keras.layers.pooling.MaxPooling2D object at 0x7f667d59add0> False\n",
      "<keras.layers.convolutional.Conv2D object at 0x7f667d59da10> False\n",
      "<keras.layers.convolutional.Conv2D object at 0x7f667d59a750> False\n",
      "<keras.layers.pooling.MaxPooling2D object at 0x7f667d5adf10> False\n",
      "<keras.layers.convolutional.Conv2D object at 0x7f667d5afa50> False\n",
      "<keras.layers.convolutional.Conv2D object at 0x7f667d5b9e90> False\n",
      "<keras.layers.convolutional.Conv2D object at 0x7f667d5ad1d0> False\n",
      "<keras.layers.pooling.MaxPooling2D object at 0x7f667d5c5a90> False\n",
      "<keras.layers.convolutional.Conv2D object at 0x7f667d5b9d10> False\n",
      "<keras.layers.convolutional.Conv2D object at 0x7f667d5ca950> False\n",
      "<keras.layers.convolutional.Conv2D object at 0x7f667d54e490> False\n",
      "<keras.layers.pooling.MaxPooling2D object at 0x7f667d5cc0d0> False\n",
      "<keras.layers.convolutional.Conv2D object at 0x7f667d556050> False\n",
      "<keras.layers.convolutional.Conv2D object at 0x7f667d5af7d0> False\n",
      "<keras.layers.convolutional.Conv2D object at 0x7f667d5caf90> False\n",
      "<keras.layers.pooling.MaxPooling2D object at 0x7f667fd7b690> False\n",
      "<keras.layers.core.Flatten object at 0x7f667fca0f50> True\n",
      "<keras.layers.core.Dropout object at 0x7f667d54e810> True\n",
      "<keras.layers.core.Dense object at 0x7f667d5b9210> True\n",
      "<keras.layers.core.Dropout object at 0x7f667d5ccdd0> True\n",
      "<keras.layers.core.Dense object at 0x7f667fd7b890> True\n",
      "<keras.layers.core.Dropout object at 0x7f667d5a3ed0> True\n",
      "<keras.layers.core.Dense object at 0x7f667d5cce50> True\n",
      "Model: \"sequential\"\n",
      "_________________________________________________________________\n",
      "Layer (type)                 Output Shape              Param #   \n",
      "=================================================================\n",
      "conv2d (Conv2D)              (None, 224, 224, 64)      1792      \n",
      "_________________________________________________________________\n",
      "conv2d_1 (Conv2D)            (None, 224, 224, 64)      36928     \n",
      "_________________________________________________________________\n",
      "max_pooling2d (MaxPooling2D) (None, 112, 112, 64)      0         \n",
      "_________________________________________________________________\n",
      "conv2d_2 (Conv2D)            (None, 112, 112, 128)     73856     \n",
      "_________________________________________________________________\n",
      "conv2d_3 (Conv2D)            (None, 112, 112, 128)     147584    \n",
      "_________________________________________________________________\n",
      "max_pooling2d_1 (MaxPooling2 (None, 56, 56, 128)       0         \n",
      "_________________________________________________________________\n",
      "conv2d_4 (Conv2D)            (None, 56, 56, 256)       295168    \n",
      "_________________________________________________________________\n",
      "conv2d_5 (Conv2D)            (None, 56, 56, 256)       590080    \n",
      "_________________________________________________________________\n",
      "conv2d_6 (Conv2D)            (None, 56, 56, 256)       590080    \n",
      "_________________________________________________________________\n",
      "max_pooling2d_2 (MaxPooling2 (None, 28, 28, 256)       0         \n",
      "_________________________________________________________________\n",
      "conv2d_7 (Conv2D)            (None, 28, 28, 512)       1180160   \n",
      "_________________________________________________________________\n",
      "conv2d_8 (Conv2D)            (None, 28, 28, 512)       2359808   \n",
      "_________________________________________________________________\n",
      "conv2d_9 (Conv2D)            (None, 28, 28, 512)       2359808   \n",
      "_________________________________________________________________\n",
      "max_pooling2d_3 (MaxPooling2 (None, 14, 14, 512)       0         \n",
      "_________________________________________________________________\n",
      "conv2d_10 (Conv2D)           (None, 14, 14, 512)       2359808   \n",
      "_________________________________________________________________\n",
      "conv2d_11 (Conv2D)           (None, 14, 14, 512)       2359808   \n",
      "_________________________________________________________________\n",
      "conv2d_12 (Conv2D)           (None, 14, 14, 512)       2359808   \n",
      "_________________________________________________________________\n",
      "vgg16 (MaxPooling2D)         (None, 7, 7, 512)         0         \n",
      "_________________________________________________________________\n",
      "flatten (Flatten)            (None, 25088)             0         \n",
      "_________________________________________________________________\n",
      "dropout (Dropout)            (None, 25088)             0         \n",
      "_________________________________________________________________\n",
      "fc1 (Dense)                  (None, 768)               19268352  \n",
      "_________________________________________________________________\n",
      "dropout_1 (Dropout)          (None, 768)               0         \n",
      "_________________________________________________________________\n",
      "fc2 (Dense)                  (None, 256)               196864    \n",
      "_________________________________________________________________\n",
      "dropout_2 (Dropout)          (None, 256)               0         \n",
      "_________________________________________________________________\n",
      "output (Dense)               (None, 11)                2827      \n",
      "=================================================================\n",
      "Total params: 34,182,731\n",
      "Trainable params: 19,468,043\n",
      "Non-trainable params: 14,714,688\n",
      "_________________________________________________________________\n"
     ]
    }
   ],
   "source": [
    "### Freezing the Weights ###\n",
    "for layer in Vgg16.layers:\n",
    "    layer.trainable = False\n",
    "\n",
    "for layer in model.layers:\n",
    "    print(layer, layer.trainable)\n",
    "    \n",
    "model.summary()"
   ]
  },
  {
   "cell_type": "markdown",
   "id": "e766ac31",
   "metadata": {
    "papermill": {
     "duration": 0.046441,
     "end_time": "2022-05-25T02:39:11.311651",
     "exception": false,
     "start_time": "2022-05-25T02:39:11.265210",
     "status": "completed"
    },
    "tags": []
   },
   "source": [
    "### Step 3.3: Model Optimizer"
   ]
  },
  {
   "cell_type": "code",
   "execution_count": 18,
   "id": "25731ce1",
   "metadata": {
    "execution": {
     "iopub.execute_input": "2022-05-25T02:39:11.404453Z",
     "iopub.status.busy": "2022-05-25T02:39:11.404155Z",
     "iopub.status.idle": "2022-05-25T02:39:11.419120Z",
     "shell.execute_reply": "2022-05-25T02:39:11.418233Z"
    },
    "papermill": {
     "duration": 0.064011,
     "end_time": "2022-05-25T02:39:11.421244",
     "exception": false,
     "start_time": "2022-05-25T02:39:11.357233",
     "status": "completed"
    },
    "tags": []
   },
   "outputs": [],
   "source": [
    "from tensorflow.keras.optimizers import Adam\n",
    "# from tensorflow.keras.optimizers import SGD\n",
    "\n",
    "model.compile(loss=\"binary_crossentropy\", optimizer=Adam(lr=1e-4), metrics=[\"accuracy\"])\n",
    "# model.compile(loss=\"binary_crossentropy\", optimizer=SGD(lr=1e-4, momentum=0.9), metrics=[\"accuracy\"])"
   ]
  },
  {
   "cell_type": "markdown",
   "id": "f6bbef99",
   "metadata": {
    "papermill": {
     "duration": 0.045567,
     "end_time": "2022-05-25T02:39:11.512546",
     "exception": false,
     "start_time": "2022-05-25T02:39:11.466979",
     "status": "completed"
    },
    "tags": []
   },
   "source": [
    "### Step 3.4: Model Checkpoint & EarlyStopping Callback"
   ]
  },
  {
   "cell_type": "code",
   "execution_count": 19,
   "id": "5c3d2a2e",
   "metadata": {
    "execution": {
     "iopub.execute_input": "2022-05-25T02:39:11.602259Z",
     "iopub.status.busy": "2022-05-25T02:39:11.601988Z",
     "iopub.status.idle": "2022-05-25T02:39:11.608380Z",
     "shell.execute_reply": "2022-05-25T02:39:11.607602Z"
    },
    "papermill": {
     "duration": 0.053602,
     "end_time": "2022-05-25T02:39:11.610333",
     "exception": false,
     "start_time": "2022-05-25T02:39:11.556731",
     "status": "completed"
    },
    "tags": []
   },
   "outputs": [],
   "source": [
    "from tensorflow.keras.callbacks import EarlyStopping, ModelCheckpoint\n",
    "# autosave best Model\n",
    "checkpoint_path = 'training/vgg16_best_model.ckpt'\n",
    "checkpoint_dir = os.path.dirname(checkpoint_path)\n",
    "early = EarlyStopping(monitor='val_accuracy', mode='max', verbose=1, patience=5)\n",
    "checkpoint = ModelCheckpoint(checkpoint_path, monitor='val_acc', verbose=1, save_best_only=True, mode='max')"
   ]
  },
  {
   "cell_type": "markdown",
   "id": "10e0f8fe",
   "metadata": {
    "papermill": {
     "duration": 0.045935,
     "end_time": "2022-05-25T02:39:11.701523",
     "exception": false,
     "start_time": "2022-05-25T02:39:11.655588",
     "status": "completed"
    },
    "tags": []
   },
   "source": [
    "### Step 3.5: Model Training"
   ]
  },
  {
   "cell_type": "code",
   "execution_count": 20,
   "id": "ab010fe8",
   "metadata": {
    "execution": {
     "iopub.execute_input": "2022-05-25T02:39:11.796659Z",
     "iopub.status.busy": "2022-05-25T02:39:11.796114Z",
     "iopub.status.idle": "2022-05-25T03:11:01.983775Z",
     "shell.execute_reply": "2022-05-25T03:11:01.983092Z"
    },
    "papermill": {
     "duration": 1910.237839,
     "end_time": "2022-05-25T03:11:01.985546",
     "exception": false,
     "start_time": "2022-05-25T02:39:11.747707",
     "status": "completed"
    },
    "tags": []
   },
   "outputs": [
    {
     "name": "stderr",
     "output_type": "stream",
     "text": [
      "2022-05-25 02:39:12.108110: I tensorflow/compiler/mlir/mlir_graph_optimization_pass.cc:185] None of the MLIR Optimization Passes are enabled (registered 2)\n"
     ]
    },
    {
     "name": "stdout",
     "output_type": "stream",
     "text": [
      "Epoch 1/30\n"
     ]
    },
    {
     "name": "stderr",
     "output_type": "stream",
     "text": [
      "2022-05-25 02:39:14.430039: I tensorflow/stream_executor/cuda/cuda_dnn.cc:369] Loaded cuDNN version 8005\n"
     ]
    },
    {
     "name": "stdout",
     "output_type": "stream",
     "text": [
      "312/312 [==============================] - 105s 305ms/step - loss: 0.2406 - accuracy: 0.4299 - val_loss: 0.1622 - val_accuracy: 0.6011\n",
      "Epoch 2/30\n",
      "312/312 [==============================] - 91s 291ms/step - loss: 0.1807 - accuracy: 0.5875 - val_loss: 0.1248 - val_accuracy: 0.7424\n",
      "Epoch 3/30\n",
      "312/312 [==============================] - 92s 295ms/step - loss: 0.1576 - accuracy: 0.6464 - val_loss: 0.1173 - val_accuracy: 0.7621\n",
      "Epoch 4/30\n",
      "312/312 [==============================] - 93s 298ms/step - loss: 0.1467 - accuracy: 0.6737 - val_loss: 0.1090 - val_accuracy: 0.7657\n",
      "Epoch 5/30\n",
      "312/312 [==============================] - 93s 297ms/step - loss: 0.1373 - accuracy: 0.7037 - val_loss: 0.1027 - val_accuracy: 0.7925\n",
      "Epoch 6/30\n",
      "312/312 [==============================] - 90s 288ms/step - loss: 0.1283 - accuracy: 0.7228 - val_loss: 0.0996 - val_accuracy: 0.7889\n",
      "Epoch 7/30\n",
      "312/312 [==============================] - 93s 297ms/step - loss: 0.1250 - accuracy: 0.7330 - val_loss: 0.1000 - val_accuracy: 0.7835\n",
      "Epoch 8/30\n",
      "312/312 [==============================] - 92s 296ms/step - loss: 0.1194 - accuracy: 0.7450 - val_loss: 0.0888 - val_accuracy: 0.8122\n",
      "Epoch 9/30\n",
      "312/312 [==============================] - 91s 292ms/step - loss: 0.1152 - accuracy: 0.7564 - val_loss: 0.0869 - val_accuracy: 0.8122\n",
      "Epoch 10/30\n",
      "312/312 [==============================] - 89s 285ms/step - loss: 0.1107 - accuracy: 0.7628 - val_loss: 0.0847 - val_accuracy: 0.8318\n",
      "Epoch 11/30\n",
      "312/312 [==============================] - 93s 297ms/step - loss: 0.1066 - accuracy: 0.7744 - val_loss: 0.0910 - val_accuracy: 0.7907\n",
      "Epoch 12/30\n",
      "312/312 [==============================] - 93s 298ms/step - loss: 0.1054 - accuracy: 0.7752 - val_loss: 0.0772 - val_accuracy: 0.8390\n",
      "Epoch 13/30\n",
      "312/312 [==============================] - 93s 299ms/step - loss: 0.1033 - accuracy: 0.7812 - val_loss: 0.0782 - val_accuracy: 0.8336\n",
      "Epoch 14/30\n",
      "312/312 [==============================] - 90s 288ms/step - loss: 0.1003 - accuracy: 0.7857 - val_loss: 0.0790 - val_accuracy: 0.8390\n",
      "Epoch 15/30\n",
      "312/312 [==============================] - 94s 300ms/step - loss: 0.1009 - accuracy: 0.7800 - val_loss: 0.0768 - val_accuracy: 0.8408\n",
      "Epoch 16/30\n",
      "312/312 [==============================] - 92s 295ms/step - loss: 0.0988 - accuracy: 0.7883 - val_loss: 0.0764 - val_accuracy: 0.8390\n",
      "Epoch 17/30\n",
      "312/312 [==============================] - 92s 296ms/step - loss: 0.0961 - accuracy: 0.7915 - val_loss: 0.0754 - val_accuracy: 0.8318\n",
      "Epoch 18/30\n",
      "312/312 [==============================] - 95s 303ms/step - loss: 0.0934 - accuracy: 0.8013 - val_loss: 0.0801 - val_accuracy: 0.8318\n",
      "Epoch 19/30\n",
      "312/312 [==============================] - 95s 304ms/step - loss: 0.0921 - accuracy: 0.8079 - val_loss: 0.0816 - val_accuracy: 0.8229\n",
      "Epoch 20/30\n",
      "312/312 [==============================] - 98s 314ms/step - loss: 0.0929 - accuracy: 0.8033 - val_loss: 0.0774 - val_accuracy: 0.8318\n",
      "Epoch 00020: early stopping\n"
     ]
    }
   ],
   "source": [
    "history = model.fit_generator(train_generator,\n",
    "                              epochs=30,\n",
    "                              verbose=1,\n",
    "                              validation_data=valid_generator,\n",
    "                              callbacks = [checkpoint, early])"
   ]
  },
  {
   "cell_type": "markdown",
   "id": "2fb16dd9",
   "metadata": {
    "papermill": {
     "duration": 2.124356,
     "end_time": "2022-05-25T03:11:06.529658",
     "exception": false,
     "start_time": "2022-05-25T03:11:04.405302",
     "status": "completed"
    },
    "tags": []
   },
   "source": [
    "## Step 4: Model Evaluation"
   ]
  },
  {
   "cell_type": "code",
   "execution_count": 21,
   "id": "76c9015c",
   "metadata": {
    "execution": {
     "iopub.execute_input": "2022-05-25T03:11:10.677954Z",
     "iopub.status.busy": "2022-05-25T03:11:10.677594Z",
     "iopub.status.idle": "2022-05-25T03:11:15.164819Z",
     "shell.execute_reply": "2022-05-25T03:11:15.163805Z"
    },
    "papermill": {
     "duration": 6.577486,
     "end_time": "2022-05-25T03:11:15.168449",
     "exception": false,
     "start_time": "2022-05-25T03:11:08.590963",
     "status": "completed"
    },
    "tags": []
   },
   "outputs": [
    {
     "name": "stdout",
     "output_type": "stream",
     "text": [
      "Loss: 0.0774 Score: 0.8318\n"
     ]
    }
   ],
   "source": [
    "evl = model.evaluate_generator(valid_generator)\n",
    "print(\"Loss: {:0.4f}\".format(evl[0]), \"Score: {:0.4f}\".format(evl[1]))"
   ]
  },
  {
   "cell_type": "markdown",
   "id": "e8ae2a39",
   "metadata": {
    "papermill": {
     "duration": 2.135105,
     "end_time": "2022-05-25T03:11:20.047058",
     "exception": false,
     "start_time": "2022-05-25T03:11:17.911953",
     "status": "completed"
    },
    "tags": []
   },
   "source": [
    "### Step 4.1: Performance Visusalization"
   ]
  },
  {
   "cell_type": "code",
   "execution_count": 22,
   "id": "ec7e25a4",
   "metadata": {
    "execution": {
     "iopub.execute_input": "2022-05-25T03:11:24.437811Z",
     "iopub.status.busy": "2022-05-25T03:11:24.437410Z",
     "iopub.status.idle": "2022-05-25T03:11:24.715901Z",
     "shell.execute_reply": "2022-05-25T03:11:24.714975Z"
    },
    "papermill": {
     "duration": 2.516858,
     "end_time": "2022-05-25T03:11:24.718527",
     "exception": false,
     "start_time": "2022-05-25T03:11:22.201669",
     "status": "completed"
    },
    "tags": []
   },
   "outputs": [
    {
     "data": {
      "image/png": "[encoded data removed]",
      "text/plain": [
       "<Figure size 432x288 with 1 Axes>"
      ]
     },
     "metadata": {
      "needs_background": "light"
     },
     "output_type": "display_data"
    }
   ],
   "source": [
    "acc = history.history['accuracy']\n",
    "val_acc = history.history['val_accuracy']\n",
    "loss = history.history['loss']\n",
    "val_loss = history.history['val_loss']\n",
    "\n",
    "epochs=range(len(acc))\n",
    "\n",
    "import matplotlib.pyplot as plt\n",
    "plt.plot(epochs, acc, 'r', label=\"Training Accuracy\")\n",
    "plt.plot(epochs, val_acc, 'b', label=\"Validation Accuracy\")\n",
    "plt.plot(epochs, loss, 'r', label=\"Training Loss\")\n",
    "plt.plot(epochs, val_loss, 'b', label=\"Validation Loss\")\n",
    "plt.title(\"Model Accuracy\")\n",
    "plt.ylabel(\"Accuracy\")\n",
    "plt.xlabel(\"Epoch\")\n",
    "plt.legend([\"Accuracy\",\"Validation Accuracy\",\"loss\",\"Validation Loss\"])\n",
    "plt.show()"
   ]
  },
  {
   "cell_type": "markdown",
   "id": "903a9d26",
   "metadata": {
    "papermill": {
     "duration": 2.135833,
     "end_time": "2022-05-25T03:11:29.354623",
     "exception": false,
     "start_time": "2022-05-25T03:11:27.218790",
     "status": "completed"
    },
    "tags": []
   },
   "source": [
    "## Step 5: Model Prediction"
   ]
  },
  {
   "cell_type": "markdown",
   "id": "3ecd149c",
   "metadata": {
    "papermill": {
     "duration": 2.10324,
     "end_time": "2022-05-25T03:11:33.635008",
     "exception": false,
     "start_time": "2022-05-25T03:11:31.531768",
     "status": "completed"
    },
    "tags": []
   },
   "source": [
    "### Step 5.1: Reading Test Images into a Dataframe"
   ]
  },
  {
   "cell_type": "code",
   "execution_count": 23,
   "id": "18596c51",
   "metadata": {
    "execution": {
     "iopub.execute_input": "2022-05-25T03:11:38.238471Z",
     "iopub.status.busy": "2022-05-25T03:11:38.238193Z",
     "iopub.status.idle": "2022-05-25T03:11:38.256041Z",
     "shell.execute_reply": "2022-05-25T03:11:38.255227Z"
    },
    "papermill": {
     "duration": 2.476416,
     "end_time": "2022-05-25T03:11:38.258031",
     "exception": false,
     "start_time": "2022-05-25T03:11:35.781615",
     "status": "completed"
    },
    "tags": []
   },
   "outputs": [
    {
     "name": "stdout",
     "output_type": "stream",
     "text": [
      "Number of Loaded Test Data Samples:  1300\n"
     ]
    }
   ],
   "source": [
    "import pandas as pd\n",
    "TEST_DIR = '../input/nn22-weather-analysis-using-image-recognition/Dataset/Test'\n",
    "img_path = os.listdir(TEST_DIR)\n",
    "test_df = pd.DataFrame({'image_name': img_path})\n",
    "n_test_samples = test_df.shape[0]\n",
    "print(\"Number of Loaded Test Data Samples: \", n_test_samples)"
   ]
  },
  {
   "cell_type": "markdown",
   "id": "a9b36c30",
   "metadata": {
    "papermill": {
     "duration": 2.139164,
     "end_time": "2022-05-25T03:11:42.544234",
     "exception": false,
     "start_time": "2022-05-25T03:11:40.405070",
     "status": "completed"
    },
    "tags": []
   },
   "source": [
    "### Step 5.2: Test Image Data Generator"
   ]
  },
  {
   "cell_type": "code",
   "execution_count": 24,
   "id": "a829fb49",
   "metadata": {
    "execution": {
     "iopub.execute_input": "2022-05-25T03:11:47.000368Z",
     "iopub.status.busy": "2022-05-25T03:11:46.999970Z",
     "iopub.status.idle": "2022-05-25T03:11:47.873940Z",
     "shell.execute_reply": "2022-05-25T03:11:47.873087Z"
    },
    "papermill": {
     "duration": 3.143865,
     "end_time": "2022-05-25T03:11:47.883873",
     "exception": false,
     "start_time": "2022-05-25T03:11:44.740008",
     "status": "completed"
    },
    "tags": []
   },
   "outputs": [
    {
     "name": "stdout",
     "output_type": "stream",
     "text": [
      "Found 1300 validated image filenames.\n"
     ]
    }
   ],
   "source": [
    "test_datagen = ImageDataGenerator(rescale = 1/255.0)\n",
    "\n",
    "test_generator = test_datagen.flow_from_dataframe(test_df, \n",
    "                                                  directory=TEST_DIR,\n",
    "                                                  x_col='image_name',\n",
    "                                                  target_size=(IMG_HEIGHT, IMG_WIDTH),\n",
    "                                                  y_col=None,\n",
    "                                                  batch_size=1,\n",
    "                                                  class_mode=None,\n",
    "                                                  shuffle=False)"
   ]
  },
  {
   "cell_type": "code",
   "execution_count": 25,
   "id": "f702cc73",
   "metadata": {
    "execution": {
     "iopub.execute_input": "2022-05-25T03:11:52.346845Z",
     "iopub.status.busy": "2022-05-25T03:11:52.346557Z",
     "iopub.status.idle": "2022-05-25T03:12:10.063424Z",
     "shell.execute_reply": "2022-05-25T03:12:10.062619Z"
    },
    "papermill": {
     "duration": 19.820425,
     "end_time": "2022-05-25T03:12:10.065542",
     "exception": false,
     "start_time": "2022-05-25T03:11:50.245117",
     "status": "completed"
    },
    "tags": []
   },
   "outputs": [
    {
     "data": {
      "text/html": [
       "<div>\n",
       "<style scoped>\n",
       "    .dataframe tbody tr th:only-of-type {\n",
       "        vertical-align: middle;\n",
       "    }\n",
       "\n",
       "    .dataframe tbody tr th {\n",
       "        vertical-align: top;\n",
       "    }\n",
       "\n",
       "    .dataframe thead th {\n",
       "        text-align: right;\n",
       "    }\n",
       "</style>\n",
       "<table border=\"1\" class=\"dataframe\">\n",
       "  <thead>\n",
       "    <tr style=\"text-align: right;\">\n",
       "      <th></th>\n",
       "      <th>image_name</th>\n",
       "      <th>label</th>\n",
       "    </tr>\n",
       "  </thead>\n",
       "  <tbody>\n",
       "    <tr>\n",
       "      <th>0</th>\n",
       "      <td>test_262.jpg</td>\n",
       "      <td>1</td>\n",
       "    </tr>\n",
       "    <tr>\n",
       "      <th>1</th>\n",
       "      <td>test_1259.jpg</td>\n",
       "      <td>0</td>\n",
       "    </tr>\n",
       "    <tr>\n",
       "      <th>2</th>\n",
       "      <td>test_422.jpg</td>\n",
       "      <td>5</td>\n",
       "    </tr>\n",
       "    <tr>\n",
       "      <th>3</th>\n",
       "      <td>test_636.jpg</td>\n",
       "      <td>2</td>\n",
       "    </tr>\n",
       "    <tr>\n",
       "      <th>4</th>\n",
       "      <td>test_828.jpg</td>\n",
       "      <td>5</td>\n",
       "    </tr>\n",
       "  </tbody>\n",
       "</table>\n",
       "</div>"
      ],
      "text/plain": [
       "      image_name  label\n",
       "0   test_262.jpg      1\n",
       "1  test_1259.jpg      0\n",
       "2   test_422.jpg      5\n",
       "3   test_636.jpg      2\n",
       "4   test_828.jpg      5"
      ]
     },
     "execution_count": 25,
     "metadata": {},
     "output_type": "execute_result"
    }
   ],
   "source": [
    "import numpy as np\n",
    "\n",
    "pred_array = model.predict(test_generator, steps=np.ceil(n_test_samples/1.0))\n",
    "predictions = np.argmax(pred_array, axis=1)\n",
    "test_df['label'] = predictions\n",
    "test_df.head()"
   ]
  },
  {
   "cell_type": "markdown",
   "id": "5d8cbf95",
   "metadata": {
    "papermill": {
     "duration": 2.129209,
     "end_time": "2022-05-25T03:12:14.348704",
     "exception": false,
     "start_time": "2022-05-25T03:12:12.219495",
     "status": "completed"
    },
    "tags": []
   },
   "source": [
    "## Step 6: Model Saving"
   ]
  },
  {
   "cell_type": "code",
   "execution_count": 26,
   "id": "947c79e8",
   "metadata": {
    "execution": {
     "iopub.execute_input": "2022-05-25T03:12:18.641327Z",
     "iopub.status.busy": "2022-05-25T03:12:18.641023Z",
     "iopub.status.idle": "2022-05-25T03:12:19.251257Z",
     "shell.execute_reply": "2022-05-25T03:12:19.250419Z"
    },
    "papermill": {
     "duration": 2.747002,
     "end_time": "2022-05-25T03:12:19.253511",
     "exception": false,
     "start_time": "2022-05-25T03:12:16.506509",
     "status": "completed"
    },
    "tags": []
   },
   "outputs": [],
   "source": [
    "model.save('vgg16-model.h5')"
   ]
  },
  {
   "cell_type": "markdown",
   "id": "0f9e1576",
   "metadata": {
    "papermill": {
     "duration": 2.147684,
     "end_time": "2022-05-25T03:12:24.382257",
     "exception": false,
     "start_time": "2022-05-25T03:12:22.234573",
     "status": "completed"
    },
    "tags": []
   },
   "source": [
    "## Step 7: Submission File Creation"
   ]
  },
  {
   "cell_type": "code",
   "execution_count": 27,
   "id": "a588433b",
   "metadata": {
    "execution": {
     "iopub.execute_input": "2022-05-25T03:12:28.679272Z",
     "iopub.status.busy": "2022-05-25T03:12:28.678994Z",
     "iopub.status.idle": "2022-05-25T03:12:28.690769Z",
     "shell.execute_reply": "2022-05-25T03:12:28.689790Z"
    },
    "papermill": {
     "duration": 2.151299,
     "end_time": "2022-05-25T03:12:28.692703",
     "exception": false,
     "start_time": "2022-05-25T03:12:26.541404",
     "status": "completed"
    },
    "tags": []
   },
   "outputs": [
    {
     "name": "stdout",
     "output_type": "stream",
     "text": [
      "[START]: File Creation...\n",
      "[END]: File Creation!\n"
     ]
    }
   ],
   "source": [
    "print(\"[START]: File Creation...\")\n",
    "test_df.to_csv(r'./submission_3.csv', index=False)\n",
    "print(\"[END]: File Creation!\")"
   ]
  }
 ],
 "metadata": {
  "kernelspec": {
   "display_name": "Python 3",
   "language": "python",
   "name": "python3"
  },
  "language_info": {
   "codemirror_mode": {
    "name": "ipython",
    "version": 3
   },
   "file_extension": ".py",
   "mimetype": "text/x-python",
   "name": "python",
   "nbconvert_exporter": "python",
   "pygments_lexer": "ipython3",
   "version": "3.7.12"
  },
  "papermill": {
   "default_parameters": {},
   "duration": 2059.093376,
   "end_time": "2022-05-25T03:12:34.266699",
   "environment_variables": {},
   "exception": null,
   "input_path": "__notebook__.ipynb",
   "output_path": "__notebook__.ipynb",
   "parameters": {},
   "start_time": "2022-05-25T02:38:15.173323",
   "version": "2.3.4"
  }
 },
 "nbformat": 4,
 "nbformat_minor": 5
}
