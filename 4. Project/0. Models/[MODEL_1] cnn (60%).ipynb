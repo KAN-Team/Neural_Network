{
 "cells": [
  {
   "cell_type": "markdown",
   "id": "fb816ca2",
   "metadata": {
    "papermill": {
     "duration": 0.053241,
     "end_time": "2022-05-27T13:19:23.227743",
     "exception": false,
     "start_time": "2022-05-27T13:19:23.174502",
     "status": "completed"
    },
    "tags": []
   },
   "source": [
    "## Step 0: Load Data From Kaggle Competition using the API"
   ]
  },
  {
   "cell_type": "code",
   "execution_count": 1,
   "id": "52336634",
   "metadata": {
    "execution": {
     "iopub.execute_input": "2022-05-27T13:19:23.331227Z",
     "iopub.status.busy": "2022-05-27T13:19:23.330801Z",
     "iopub.status.idle": "2022-05-27T13:19:23.348991Z",
     "shell.execute_reply": "2022-05-27T13:19:23.348387Z"
    },
    "papermill": {
     "duration": 0.07099,
     "end_time": "2022-05-27T13:19:23.351290",
     "exception": false,
     "start_time": "2022-05-27T13:19:23.280300",
     "status": "completed"
    },
    "tags": []
   },
   "outputs": [],
   "source": [
    "import os\n",
    "os.environ['KAGGLE_USERNAME'] = \"kareemsherif\" # username from the json file\n",
    "os.environ['KAGGLE_KEY'] = \"72758e63904e0846da3f5ddedfe5965a\" # key from the json file"
   ]
  },
  {
   "cell_type": "code",
   "execution_count": 2,
   "id": "7dfd357a",
   "metadata": {
    "execution": {
     "iopub.execute_input": "2022-05-27T13:19:23.490010Z",
     "iopub.status.busy": "2022-05-27T13:19:23.489652Z",
     "iopub.status.idle": "2022-05-27T13:19:28.488394Z",
     "shell.execute_reply": "2022-05-27T13:19:28.487628Z"
    },
    "papermill": {
     "duration": 5.088864,
     "end_time": "2022-05-27T13:19:28.490578",
     "exception": false,
     "start_time": "2022-05-27T13:19:23.401714",
     "status": "completed"
    },
    "tags": []
   },
   "outputs": [
    {
     "name": "stdout",
     "output_type": "stream",
     "text": [
      "Downloading nn22-weather-analysis-using-image-recognition.zip to /kaggle/working\r\n",
      " 97%|███████████████████████████████████████▉ | 571M/586M [00:02<00:00, 300MB/s]\r\n",
      "100%|█████████████████████████████████████████| 586M/586M [00:02<00:00, 277MB/s]\r\n"
     ]
    }
   ],
   "source": [
    "!kaggle competitions download -c nn22-weather-analysis-using-image-recognition"
   ]
  },
  {
   "cell_type": "code",
   "execution_count": 3,
   "id": "41c523dd",
   "metadata": {
    "execution": {
     "iopub.execute_input": "2022-05-27T13:19:28.566517Z",
     "iopub.status.busy": "2022-05-27T13:19:28.566295Z",
     "iopub.status.idle": "2022-05-27T13:19:33.365783Z",
     "shell.execute_reply": "2022-05-27T13:19:33.363699Z"
    },
    "papermill": {
     "duration": 4.83972,
     "end_time": "2022-05-27T13:19:33.368101",
     "exception": false,
     "start_time": "2022-05-27T13:19:28.528381",
     "status": "completed"
    },
    "tags": []
   },
   "outputs": [
    {
     "name": "stdout",
     "output_type": "stream",
     "text": [
      "done unzipping\n"
     ]
    }
   ],
   "source": [
    "# Unzipping data\n",
    "from zipfile import ZipFile\n",
    "file_name = \"./nn22-weather-analysis-using-image-recognition.zip\"\n",
    "\n",
    "with ZipFile(file_name, 'r') as zip:\n",
    "  zip.extractall()\n",
    "  print('done unzipping')"
   ]
  },
  {
   "cell_type": "markdown",
   "id": "1130341e",
   "metadata": {
    "papermill": {
     "duration": 0.04595,
     "end_time": "2022-05-27T13:19:33.452819",
     "exception": false,
     "start_time": "2022-05-27T13:19:33.406869",
     "status": "completed"
    },
    "tags": []
   },
   "source": [
    "## Step 1: Explore Data"
   ]
  },
  {
   "cell_type": "code",
   "execution_count": 4,
   "id": "18e5eaec",
   "metadata": {
    "execution": {
     "iopub.execute_input": "2022-05-27T13:19:33.527905Z",
     "iopub.status.busy": "2022-05-27T13:19:33.527675Z",
     "iopub.status.idle": "2022-05-27T13:19:33.536674Z",
     "shell.execute_reply": "2022-05-27T13:19:33.535995Z"
    },
    "papermill": {
     "duration": 0.048879,
     "end_time": "2022-05-27T13:19:33.538867",
     "exception": false,
     "start_time": "2022-05-27T13:19:33.489988",
     "status": "completed"
    },
    "tags": []
   },
   "outputs": [
    {
     "name": "stdout",
     "output_type": "stream",
     "text": [
      "Train Directory Content:  ['glaze', 'rainbow', 'rain', 'sandstorm', 'frost', 'snow', 'rime', 'fogsmog', 'lightning', 'dew', 'hail']\n",
      "Test Directory # of files:  1300\n"
     ]
    }
   ],
   "source": [
    "import warnings\n",
    "warnings.filterwarnings('ignore')\n",
    "\n",
    "class_labels = ['rainbow', 'rain', 'hail', 'lightning', 'fogsmog', 'snow', 'glaze', 'rime', 'frost', 'sandstorm', 'dew']\n",
    "\n",
    "# Displaying Train Content\n",
    "data_dir_list = os.listdir('./Dataset/Train')\n",
    "print(\"Train Directory Content: \", data_dir_list)\n",
    "\n",
    "# Displaying Test files\n",
    "path, dirs, files = next(os.walk(\"./Dataset/Test\"))\n",
    "file_count = len(files)\n",
    "print(\"Test Directory # of files: \", file_count)"
   ]
  },
  {
   "cell_type": "markdown",
   "id": "1087917e",
   "metadata": {
    "papermill": {
     "duration": 0.038014,
     "end_time": "2022-05-27T13:19:33.614814",
     "exception": false,
     "start_time": "2022-05-27T13:19:33.576800",
     "status": "completed"
    },
    "tags": []
   },
   "source": [
    "## Step 2: Train-Valid Split"
   ]
  },
  {
   "cell_type": "markdown",
   "id": "82465364",
   "metadata": {
    "papermill": {
     "duration": 0.036683,
     "end_time": "2022-05-27T13:19:33.688419",
     "exception": false,
     "start_time": "2022-05-27T13:19:33.651736",
     "status": "completed"
    },
    "tags": []
   },
   "source": [
    "### Step 2.1: Establishing Working Directories"
   ]
  },
  {
   "cell_type": "code",
   "execution_count": 5,
   "id": "dad96f17",
   "metadata": {
    "execution": {
     "iopub.execute_input": "2022-05-27T13:19:33.763807Z",
     "iopub.status.busy": "2022-05-27T13:19:33.763592Z",
     "iopub.status.idle": "2022-05-27T13:19:33.767174Z",
     "shell.execute_reply": "2022-05-27T13:19:33.766452Z"
    },
    "papermill": {
     "duration": 0.042975,
     "end_time": "2022-05-27T13:19:33.768887",
     "exception": false,
     "start_time": "2022-05-27T13:19:33.725912",
     "status": "completed"
    },
    "tags": []
   },
   "outputs": [],
   "source": [
    "# making base directory for train-valid splitting\n",
    "base_dir = './Dataset/weather-data'\n",
    "os.mkdir(base_dir)"
   ]
  },
  {
   "cell_type": "code",
   "execution_count": 6,
   "id": "843c9a74",
   "metadata": {
    "execution": {
     "iopub.execute_input": "2022-05-27T13:19:33.844460Z",
     "iopub.status.busy": "2022-05-27T13:19:33.844122Z",
     "iopub.status.idle": "2022-05-27T13:19:33.860084Z",
     "shell.execute_reply": "2022-05-27T13:19:33.859479Z"
    },
    "papermill": {
     "duration": 0.055524,
     "end_time": "2022-05-27T13:19:33.861720",
     "exception": false,
     "start_time": "2022-05-27T13:19:33.806196",
     "status": "completed"
    },
    "tags": []
   },
   "outputs": [],
   "source": [
    "# creating two folders (train and valid)\n",
    "train_dir = os.path.join(base_dir, 'train')\n",
    "os.mkdir(train_dir)\n",
    "\n",
    "valid_dir = os.path.join(base_dir, 'valid')\n",
    "os.mkdir(valid_dir)\n",
    "\n",
    "# creating eleven directories inside 'train' directory \n",
    "# ('rainbow', 'rain', 'hail', 'lightning', 'fogsmog', 'snow', 'glaze', 'rime', 'frost', 'sandstorm', 'dew')\n",
    "#0\n",
    "train_rainbow_dir = os.path.join(train_dir, 'rainbow')\n",
    "os.mkdir(train_rainbow_dir)\n",
    "#1\n",
    "train_rain_dir = os.path.join(train_dir, 'rain')\n",
    "os.mkdir(train_rain_dir)\n",
    "#2\n",
    "train_hail_dir = os.path.join(train_dir, 'hail')\n",
    "os.mkdir(train_hail_dir)\n",
    "#3\n",
    "train_lightning_dir = os.path.join(train_dir, 'lightning')\n",
    "os.mkdir(train_lightning_dir)\n",
    "#4\n",
    "train_fogsmog_dir = os.path.join(train_dir, 'fogsmog')\n",
    "os.mkdir(train_fogsmog_dir)\n",
    "#5\n",
    "train_snow_dir = os.path.join(train_dir, 'snow')\n",
    "os.mkdir(train_snow_dir)\n",
    "#6\n",
    "train_glaze_dir = os.path.join(train_dir, 'glaze')\n",
    "os.mkdir(train_glaze_dir)\n",
    "#7\n",
    "train_rime_dir = os.path.join(train_dir, 'rime')\n",
    "os.mkdir(train_rime_dir)\n",
    "#8\n",
    "train_frost_dir = os.path.join(train_dir, 'frost')\n",
    "os.mkdir(train_frost_dir)\n",
    "#9\n",
    "train_sandstorm_dir = os.path.join(train_dir, 'sandstorm')\n",
    "os.mkdir(train_sandstorm_dir)\n",
    "#10\n",
    "train_dew_dir = os.path.join(train_dir, 'dew')\n",
    "os.mkdir(train_dew_dir)\n",
    "\n",
    "# creating eleven directories inside 'valid' directory \n",
    "# ('rainbow', 'rain', 'hail', 'lightning', 'fogsmog', 'snow', 'glaze', 'rime', 'frost', 'sandstorm', 'dew')\n",
    "#0\n",
    "valid_rainbow_dir = os.path.join(valid_dir, 'rainbow')\n",
    "os.mkdir(valid_rainbow_dir)\n",
    "#1\n",
    "valid_rain_dir = os.path.join(valid_dir, 'rain')\n",
    "os.mkdir(valid_rain_dir)\n",
    "#2\n",
    "valid_hail_dir = os.path.join(valid_dir, 'hail')\n",
    "os.mkdir(valid_hail_dir)\n",
    "#3\n",
    "valid_lightning_dir = os.path.join(valid_dir, 'lightning')\n",
    "os.mkdir(valid_lightning_dir)\n",
    "#4\n",
    "valid_fogsmog_dir = os.path.join(valid_dir, 'fogsmog')\n",
    "os.mkdir(valid_fogsmog_dir)\n",
    "#5\n",
    "valid_snow_dir = os.path.join(valid_dir, 'snow')\n",
    "os.mkdir(valid_snow_dir)\n",
    "#6\n",
    "valid_glaze_dir = os.path.join(valid_dir, 'glaze')\n",
    "os.mkdir(valid_glaze_dir)\n",
    "#7\n",
    "valid_rime_dir = os.path.join(valid_dir, 'rime')\n",
    "os.mkdir(valid_rime_dir)\n",
    "#8\n",
    "valid_frost_dir = os.path.join(valid_dir, 'frost')\n",
    "os.mkdir(valid_frost_dir)\n",
    "#9\n",
    "valid_sandstorm_dir = os.path.join(valid_dir, 'sandstorm')\n",
    "os.mkdir(valid_sandstorm_dir)\n",
    "#10\n",
    "valid_dew_dir = os.path.join(valid_dir, 'dew')\n",
    "os.mkdir(valid_dew_dir)"
   ]
  },
  {
   "cell_type": "code",
   "execution_count": 7,
   "id": "f01b0477",
   "metadata": {
    "execution": {
     "iopub.execute_input": "2022-05-27T13:19:33.936720Z",
     "iopub.status.busy": "2022-05-27T13:19:33.936220Z",
     "iopub.status.idle": "2022-05-27T13:19:33.943693Z",
     "shell.execute_reply": "2022-05-27T13:19:33.943090Z"
    },
    "papermill": {
     "duration": 0.046696,
     "end_time": "2022-05-27T13:19:33.945287",
     "exception": false,
     "start_time": "2022-05-27T13:19:33.898591",
     "status": "completed"
    },
    "tags": []
   },
   "outputs": [],
   "source": [
    "import random\n",
    "from shutil import copyfile\n",
    "\n",
    "def train_valid_split(src_dir, train_dir, valid_dir, split_size):\n",
    "    files = []\n",
    "    for filename in os.listdir(src_dir):\n",
    "        file = os.path.join(src_dir, filename)\n",
    "        if os.path.getsize(file) > 0:\n",
    "            files.append(filename)\n",
    "        else:\n",
    "            print(filename + \"is ignored as it cannot be fetched!!\")\n",
    "\n",
    "    # shuffling train data and splitting into train and valid sets\n",
    "    train_size = int(len(files) * split_size)\n",
    "    valid_size = int(len(files) - train_size)\n",
    "    shuffled_set = random.sample(files, len(files))\n",
    "    train_set = shuffled_set[0:train_size]\n",
    "    valid_set = shuffled_set[train_size:]\n",
    "    \n",
    "    # copying train set files from source to destination \n",
    "    for filename in train_set:\n",
    "        curr_file = os.path.join(src_dir, filename)\n",
    "        move_dest = os.path.join(train_dir, filename)\n",
    "        copyfile(curr_file, move_dest)\n",
    "    \n",
    "    # copying valid set files from source to destination \n",
    "    for filename in valid_set:\n",
    "        curr_file = os.path.join(src_dir, filename)\n",
    "        move_dest = os.path.join(valid_dir, filename)\n",
    "        copyfile(curr_file, move_dest)"
   ]
  },
  {
   "cell_type": "code",
   "execution_count": 8,
   "id": "86dff873",
   "metadata": {
    "execution": {
     "iopub.execute_input": "2022-05-27T13:19:34.021145Z",
     "iopub.status.busy": "2022-05-27T13:19:34.020965Z",
     "iopub.status.idle": "2022-05-27T13:19:34.032826Z",
     "shell.execute_reply": "2022-05-27T13:19:34.032204Z"
    },
    "papermill": {
     "duration": 0.051786,
     "end_time": "2022-05-27T13:19:34.034402",
     "exception": false,
     "start_time": "2022-05-27T13:19:33.982616",
     "status": "completed"
    },
    "tags": []
   },
   "outputs": [],
   "source": [
    "import os\n",
    "\n",
    "TRAIN_SRC_DIR = './Dataset/Train'\n",
    "TRAIN_DIR = './Dataset/weather-data/train/'\n",
    "VALID_DIR = './Dataset/weather-data/valid/'\n",
    "\n",
    "#0\n",
    "DEW_SOURCE_DIR = os.path.join(TRAIN_SRC_DIR, 'dew')\n",
    "DEW_TRAIN_DIR = os.path.join(TRAIN_DIR, 'dew')\n",
    "DEW_VALID_DIR = os.path.join(VALID_DIR, 'dew')\n",
    "\n",
    "#1\n",
    "FOGSMOG_SOURCE_DIR = os.path.join(TRAIN_SRC_DIR, 'fogsmog')\n",
    "FOGSMOG_TRAIN_DIR = os.path.join(TRAIN_DIR, 'fogsmog')\n",
    "FOGSMOG_VALID_DIR = os.path.join(VALID_DIR, 'fogsmog')\n",
    "\n",
    "#2\n",
    "FROST_SOURCE_DIR = os.path.join(TRAIN_SRC_DIR, 'frost')\n",
    "FROST_TRAIN_DIR = os.path.join(TRAIN_DIR, 'frost')\n",
    "FROST_VALID_DIR = os.path.join(VALID_DIR, 'frost')\n",
    "\n",
    "#3\n",
    "GLAZE_SOURCE_DIR = os.path.join(TRAIN_SRC_DIR, 'glaze')\n",
    "GLAZE_TRAIN_DIR = os.path.join(TRAIN_DIR, 'glaze')\n",
    "GLAZE_VALID_DIR = os.path.join(VALID_DIR, 'glaze')\n",
    "\n",
    "#4\n",
    "HAIL_SOURCE_DIR = os.path.join(TRAIN_SRC_DIR, 'hail')\n",
    "HAIL_TRAIN_DIR = os.path.join(TRAIN_DIR, 'hail')\n",
    "HAIL_VALID_DIR = os.path.join(VALID_DIR, 'hail')\n",
    "\n",
    "#5\n",
    "LIGHTNING_SOURCE_DIR = os.path.join(TRAIN_SRC_DIR, 'lightning')\n",
    "LIGHTNING_TRAIN_DIR = os.path.join(TRAIN_DIR, 'lightning')\n",
    "LIGHTNING_VALID_DIR = os.path.join(VALID_DIR, 'lightning')\n",
    "\n",
    "#6\n",
    "RAIN_SOURCE_DIR = os.path.join(TRAIN_SRC_DIR, 'rain')\n",
    "RAIN_TRAIN_DIR = os.path.join(TRAIN_DIR, 'rain')\n",
    "RAIN_VALID_DIR = os.path.join(VALID_DIR, 'rain')\n",
    "\n",
    "#7\n",
    "RAINBOW_SOURCE_DIR = os.path.join(TRAIN_SRC_DIR, 'rainbow')\n",
    "RAINBOW_TRAIN_DIR = os.path.join(TRAIN_DIR, 'rainbow')\n",
    "RAINBOW_VALID_DIR = os.path.join(VALID_DIR, 'rainbow')\n",
    "\n",
    "#8\n",
    "RIME_SOURCE_DIR = os.path.join(TRAIN_SRC_DIR, 'rime')\n",
    "RIME_TRAIN_DIR = os.path.join(TRAIN_DIR, 'rime')\n",
    "RIME_VALID_DIR = os.path.join(VALID_DIR, 'rime')\n",
    "\n",
    "#9\n",
    "SANDSTORM_SOURCE_DIR = os.path.join(TRAIN_SRC_DIR, 'sandstorm')\n",
    "SANDSTORM_TRAIN_DIR = os.path.join(TRAIN_DIR, 'sandstorm')\n",
    "SANDSTORM_VALID_DIR = os.path.join(VALID_DIR, 'sandstorm')\n",
    "\n",
    "#10\n",
    "SNOW_SOURCE_DIR = os.path.join(TRAIN_SRC_DIR, 'snow')\n",
    "SNOW_TRAIN_DIR = os.path.join(TRAIN_DIR, 'snow')\n",
    "SNOW_VALID_DIR = os.path.join(VALID_DIR, 'snow')"
   ]
  },
  {
   "cell_type": "code",
   "execution_count": 9,
   "id": "0f8247c1",
   "metadata": {
    "execution": {
     "iopub.execute_input": "2022-05-27T13:19:34.109584Z",
     "iopub.status.busy": "2022-05-27T13:19:34.109315Z",
     "iopub.status.idle": "2022-05-27T13:19:35.370469Z",
     "shell.execute_reply": "2022-05-27T13:19:35.369603Z"
    },
    "papermill": {
     "duration": 1.303983,
     "end_time": "2022-05-27T13:19:35.375734",
     "exception": false,
     "start_time": "2022-05-27T13:19:34.071751",
     "status": "completed"
    },
    "tags": []
   },
   "outputs": [],
   "source": [
    "split_portion = .90\n",
    "\n",
    "# splitting each class into train-validation sets\n",
    "train_valid_split(DEW_SOURCE_DIR, DEW_TRAIN_DIR, DEW_VALID_DIR, split_portion)\n",
    "train_valid_split(FOGSMOG_SOURCE_DIR, FOGSMOG_TRAIN_DIR, FOGSMOG_VALID_DIR, split_portion)\n",
    "train_valid_split(FROST_SOURCE_DIR, FROST_TRAIN_DIR, FROST_VALID_DIR, split_portion)\n",
    "train_valid_split(GLAZE_SOURCE_DIR, GLAZE_TRAIN_DIR, GLAZE_VALID_DIR, split_portion)\n",
    "train_valid_split(HAIL_SOURCE_DIR, HAIL_TRAIN_DIR, HAIL_VALID_DIR, split_portion)\n",
    "train_valid_split(LIGHTNING_SOURCE_DIR, LIGHTNING_TRAIN_DIR, LIGHTNING_VALID_DIR, split_portion)\n",
    "train_valid_split(RAIN_SOURCE_DIR, RAIN_TRAIN_DIR, RAIN_VALID_DIR, split_portion)\n",
    "train_valid_split(RAINBOW_SOURCE_DIR, RAINBOW_TRAIN_DIR, RAINBOW_VALID_DIR, split_portion)\n",
    "train_valid_split(RIME_SOURCE_DIR, RIME_TRAIN_DIR, RIME_VALID_DIR, split_portion)\n",
    "train_valid_split(SANDSTORM_SOURCE_DIR, SANDSTORM_TRAIN_DIR, SANDSTORM_VALID_DIR, split_portion)\n",
    "train_valid_split(SNOW_SOURCE_DIR, SNOW_TRAIN_DIR, SNOW_VALID_DIR, split_portion)"
   ]
  },
  {
   "cell_type": "markdown",
   "id": "a547831c",
   "metadata": {
    "papermill": {
     "duration": 0.117472,
     "end_time": "2022-05-27T13:19:35.609307",
     "exception": false,
     "start_time": "2022-05-27T13:19:35.491835",
     "status": "completed"
    },
    "tags": []
   },
   "source": [
    "## Step 2.2: Train-Valid Analysis"
   ]
  },
  {
   "cell_type": "code",
   "execution_count": 10,
   "id": "a1a9e03f",
   "metadata": {
    "execution": {
     "iopub.execute_input": "2022-05-27T13:19:35.748442Z",
     "iopub.status.busy": "2022-05-27T13:19:35.748084Z",
     "iopub.status.idle": "2022-05-27T13:19:37.077676Z",
     "shell.execute_reply": "2022-05-27T13:19:37.073292Z"
    },
    "papermill": {
     "duration": 1.405714,
     "end_time": "2022-05-27T13:19:37.079966",
     "exception": false,
     "start_time": "2022-05-27T13:19:35.674252",
     "status": "completed"
    },
    "tags": []
   },
   "outputs": [],
   "source": [
    "import matplotlib.pyplot as plt\n",
    "import seaborn as sns\n",
    "from matplotlib.image import imread\n",
    "import pathlib\n",
    "\n",
    "class_labels = ['rainbow', 'rain', 'hail', 'lightning', 'fogsmog', 'snow', 'glaze', 'rime', 'frost', 'sandstorm', 'dew']\n",
    "def plot_classes_distributions(dir_path, plot_title):\n",
    "    class_imgs_num = {}\n",
    "    for lbl in class_labels:\n",
    "        class_imgs_num[lbl] = len(os.listdir(dir_path+lbl+'/'))\n",
    "\n",
    "    plt.figure(figsize=(9, 6))\n",
    "    plt.bar(range(len(class_imgs_num)), list(class_imgs_num.values()), align='center')\n",
    "    plt.xticks(range(len(class_imgs_num)), list(class_imgs_num.keys()))\n",
    "    plt.title(plot_title)\n",
    "    plt.show()"
   ]
  },
  {
   "cell_type": "code",
   "execution_count": 11,
   "id": "77aeabaf",
   "metadata": {
    "execution": {
     "iopub.execute_input": "2022-05-27T13:19:42.509366Z",
     "iopub.status.busy": "2022-05-27T13:19:42.509057Z",
     "iopub.status.idle": "2022-05-27T13:19:42.733425Z",
     "shell.execute_reply": "2022-05-27T13:19:42.732792Z"
    },
    "papermill": {
     "duration": 5.615418,
     "end_time": "2022-05-27T13:19:42.735414",
     "exception": false,
     "start_time": "2022-05-27T13:19:37.119996",
     "status": "completed"
    },
    "tags": []
   },
   "outputs": [
    {
     "data": {
      "image/png": "[encoded data removed]",
      "text/plain": [
       "<Figure size 648x432 with 1 Axes>"
      ]
     },
     "metadata": {
      "needs_background": "light"
     },
     "output_type": "display_data"
    }
   ],
   "source": [
    "plot_classes_distributions(TRAIN_DIR, 'Distribution of all classes in the Train Set')"
   ]
  },
  {
   "cell_type": "code",
   "execution_count": 12,
   "id": "4126eb7b",
   "metadata": {
    "execution": {
     "iopub.execute_input": "2022-05-27T13:19:42.813385Z",
     "iopub.status.busy": "2022-05-27T13:19:42.812946Z",
     "iopub.status.idle": "2022-05-27T13:19:42.994445Z",
     "shell.execute_reply": "2022-05-27T13:19:42.993820Z"
    },
    "papermill": {
     "duration": 0.222742,
     "end_time": "2022-05-27T13:19:42.996338",
     "exception": false,
     "start_time": "2022-05-27T13:19:42.773596",
     "status": "completed"
    },
    "tags": []
   },
   "outputs": [
    {
     "data": {
      "image/png": "[encoded data removed]",
      "text/plain": [
       "<Figure size 648x432 with 1 Axes>"
      ]
     },
     "metadata": {
      "needs_background": "light"
     },
     "output_type": "display_data"
    }
   ],
   "source": [
    "plot_classes_distributions(VALID_DIR, 'Distribution of all classes in the Valid Set')"
   ]
  },
  {
   "cell_type": "code",
   "execution_count": 13,
   "id": "1fe9f601",
   "metadata": {
    "execution": {
     "iopub.execute_input": "2022-05-27T13:19:43.075174Z",
     "iopub.status.busy": "2022-05-27T13:19:43.074983Z",
     "iopub.status.idle": "2022-05-27T13:19:43.089209Z",
     "shell.execute_reply": "2022-05-27T13:19:43.088549Z"
    },
    "papermill": {
     "duration": 0.055188,
     "end_time": "2022-05-27T13:19:43.090832",
     "exception": false,
     "start_time": "2022-05-27T13:19:43.035644",
     "status": "completed"
    },
    "tags": []
   },
   "outputs": [
    {
     "name": "stdout",
     "output_type": "stream",
     "text": [
      "# of Train rainbow images are: 117\n",
      "# of Train rain images are: 346\n",
      "# of Train hail images are: 405\n",
      "# of Train lightning images are: 248\n",
      "# of Train fogsmog images are: 675\n",
      "# of Train snow images are: 468\n",
      "# of Train glaze images are: 484\n",
      "# of Train rime images are: 953\n",
      "# of Train frost images are: 300\n",
      "# of Train sandstorm images are: 495\n",
      "# of Train dew images are: 501\n",
      "========================================\n",
      "# of Valid rainbow images are: 14\n",
      "# of Valid rain images are: 39\n",
      "# of Valid hail images are: 45\n",
      "# of Valid lightning images are: 28\n",
      "# of Valid fogsmog images are: 75\n",
      "# of Valid snow images are: 52\n",
      "# of Valid glaze images are: 54\n",
      "# of Valid rime images are: 106\n",
      "# of Valid frost images are: 34\n",
      "# of Valid sandstorm images are: 56\n",
      "# of Valid dew images are: 56\n"
     ]
    }
   ],
   "source": [
    "for lbl in class_labels:\n",
    "    print('# of Train {} images are: '.format(lbl) + str(len(os.listdir(TRAIN_DIR + lbl +'/'))))\n",
    "    \n",
    "print('========================================')\n",
    "\n",
    "for lbl in class_labels:\n",
    "    print('# of Valid {} images are: '.format(lbl) + str(len(os.listdir(VALID_DIR + lbl +'/'))))"
   ]
  },
  {
   "cell_type": "markdown",
   "id": "47cb2135",
   "metadata": {
    "papermill": {
     "duration": 0.038885,
     "end_time": "2022-05-27T13:19:43.168387",
     "exception": false,
     "start_time": "2022-05-27T13:19:43.129502",
     "status": "completed"
    },
    "tags": []
   },
   "source": [
    "## Step 3: Deep Learning with Data Augmentation"
   ]
  },
  {
   "cell_type": "markdown",
   "id": "3e132550",
   "metadata": {
    "papermill": {
     "duration": 0.038399,
     "end_time": "2022-05-27T13:19:43.245451",
     "exception": false,
     "start_time": "2022-05-27T13:19:43.207052",
     "status": "completed"
    },
    "tags": []
   },
   "source": [
    "### Step 3.1: Image Data Generator"
   ]
  },
  {
   "cell_type": "code",
   "execution_count": 14,
   "id": "720c82b1",
   "metadata": {
    "execution": {
     "iopub.execute_input": "2022-05-27T13:19:43.324211Z",
     "iopub.status.busy": "2022-05-27T13:19:43.324018Z",
     "iopub.status.idle": "2022-05-27T13:19:49.143414Z",
     "shell.execute_reply": "2022-05-27T13:19:49.142570Z"
    },
    "papermill": {
     "duration": 5.861672,
     "end_time": "2022-05-27T13:19:49.145852",
     "exception": false,
     "start_time": "2022-05-27T13:19:43.284180",
     "status": "completed"
    },
    "tags": []
   },
   "outputs": [
    {
     "name": "stdout",
     "output_type": "stream",
     "text": [
      "Found 4992 images belonging to 11 classes.\n"
     ]
    }
   ],
   "source": [
    "IMG_WIDTH = 224\n",
    "IMG_HEIGHT = 224\n",
    "BATCH_SIZE = 16\n",
    "\n",
    "from tensorflow.keras.preprocessing.image import ImageDataGenerator\n",
    "train_datagen = ImageDataGenerator(rescale = 1/255.0,\n",
    "                                   rotation_range=30,\n",
    "                                   zoom_range=0.4,\n",
    "                                   width_shift_range=0.2,\n",
    "                                   height_shift_range=0.2,\n",
    "                                   shear_range=0.15,\n",
    "                                   horizontal_flip=True)\n",
    "\n",
    "train_generator = train_datagen.flow_from_directory(TRAIN_DIR,\n",
    "                                                    batch_size=BATCH_SIZE,\n",
    "                                                    class_mode='categorical',\n",
    "                                                    target_size=(IMG_HEIGHT, IMG_WIDTH))"
   ]
  },
  {
   "cell_type": "code",
   "execution_count": 15,
   "id": "55de765b",
   "metadata": {
    "execution": {
     "iopub.execute_input": "2022-05-27T13:19:49.227942Z",
     "iopub.status.busy": "2022-05-27T13:19:49.227661Z",
     "iopub.status.idle": "2022-05-27T13:19:49.334311Z",
     "shell.execute_reply": "2022-05-27T13:19:49.333661Z"
    },
    "papermill": {
     "duration": 0.148872,
     "end_time": "2022-05-27T13:19:49.336078",
     "exception": false,
     "start_time": "2022-05-27T13:19:49.187206",
     "status": "completed"
    },
    "tags": []
   },
   "outputs": [
    {
     "name": "stdout",
     "output_type": "stream",
     "text": [
      "Found 559 images belonging to 11 classes.\n"
     ]
    }
   ],
   "source": [
    "valid_datagen = ImageDataGenerator(rescale = 1/255.0)\n",
    "\n",
    "valid_generator = valid_datagen.flow_from_directory(VALID_DIR,\n",
    "                                                    batch_size=BATCH_SIZE,\n",
    "                                                    class_mode='categorical',\n",
    "                                                    target_size=(IMG_HEIGHT, IMG_WIDTH))"
   ]
  },
  {
   "cell_type": "markdown",
   "id": "b6259cc8",
   "metadata": {
    "papermill": {
     "duration": 0.040364,
     "end_time": "2022-05-27T13:19:49.416173",
     "exception": false,
     "start_time": "2022-05-27T13:19:49.375809",
     "status": "completed"
    },
    "tags": []
   },
   "source": [
    "### Step 3.2: Building The Mode"
   ]
  },
  {
   "cell_type": "code",
   "execution_count": 16,
   "id": "57491d09",
   "metadata": {
    "execution": {
     "iopub.execute_input": "2022-05-27T13:19:49.497932Z",
     "iopub.status.busy": "2022-05-27T13:19:49.497692Z",
     "iopub.status.idle": "2022-05-27T13:19:52.644837Z",
     "shell.execute_reply": "2022-05-27T13:19:52.644038Z"
    },
    "papermill": {
     "duration": 3.190928,
     "end_time": "2022-05-27T13:19:52.647028",
     "exception": false,
     "start_time": "2022-05-27T13:19:49.456100",
     "status": "completed"
    },
    "tags": []
   },
   "outputs": [
    {
     "name": "stdout",
     "output_type": "stream",
     "text": [
      "Model: \"CNN\"\n",
      "_________________________________________________________________\n",
      "Layer (type)                 Output Shape              Param #   \n",
      "=================================================================\n",
      "conv2d (Conv2D)              (None, 222, 222, 16)      448       \n",
      "_________________________________________________________________\n",
      "max_pooling2d (MaxPooling2D) (None, 111, 111, 16)      0         \n",
      "_________________________________________________________________\n",
      "conv2d_1 (Conv2D)            (None, 109, 109, 32)      4640      \n",
      "_________________________________________________________________\n",
      "max_pooling2d_1 (MaxPooling2 (None, 54, 54, 32)        0         \n",
      "_________________________________________________________________\n",
      "conv2d_2 (Conv2D)            (None, 52, 52, 64)        18496     \n",
      "_________________________________________________________________\n",
      "conv2d_3 (Conv2D)            (None, 50, 50, 64)        36928     \n",
      "_________________________________________________________________\n",
      "max_pooling2d_2 (MaxPooling2 (None, 25, 25, 64)        0         \n",
      "_________________________________________________________________\n",
      "conv2d_4 (Conv2D)            (None, 23, 23, 128)       73856     \n",
      "_________________________________________________________________\n",
      "conv2d_5 (Conv2D)            (None, 21, 21, 128)       147584    \n",
      "_________________________________________________________________\n",
      "max_pooling2d_3 (MaxPooling2 (None, 10, 10, 128)       0         \n",
      "_________________________________________________________________\n",
      "conv2d_6 (Conv2D)            (None, 8, 8, 256)         295168    \n",
      "_________________________________________________________________\n",
      "conv2d_7 (Conv2D)            (None, 6, 6, 256)         590080    \n",
      "_________________________________________________________________\n",
      "conv2d_8 (Conv2D)            (None, 4, 4, 256)         590080    \n",
      "_________________________________________________________________\n",
      "max_pooling2d_4 (MaxPooling2 (None, 2, 2, 256)         0         \n",
      "_________________________________________________________________\n",
      "flatten (Flatten)            (None, 1024)              0         \n",
      "_________________________________________________________________\n",
      "dense (Dense)                (None, 512)               524800    \n",
      "_________________________________________________________________\n",
      "dense_1 (Dense)              (None, 512)               262656    \n",
      "_________________________________________________________________\n",
      "dense_2 (Dense)              (None, 11)                5643      \n",
      "=================================================================\n",
      "Total params: 2,550,379\n",
      "Trainable params: 2,550,379\n",
      "Non-trainable params: 0\n",
      "_________________________________________________________________\n"
     ]
    },
    {
     "name": "stderr",
     "output_type": "stream",
     "text": [
      "2022-05-27 13:19:49.606826: I tensorflow/stream_executor/cuda/cuda_gpu_executor.cc:937] successful NUMA node read from SysFS had negative value (-1), but there must be at least one NUMA node, so returning NUMA node zero\n",
      "2022-05-27 13:19:49.729803: I tensorflow/stream_executor/cuda/cuda_gpu_executor.cc:937] successful NUMA node read from SysFS had negative value (-1), but there must be at least one NUMA node, so returning NUMA node zero\n",
      "2022-05-27 13:19:49.730565: I tensorflow/stream_executor/cuda/cuda_gpu_executor.cc:937] successful NUMA node read from SysFS had negative value (-1), but there must be at least one NUMA node, so returning NUMA node zero\n",
      "2022-05-27 13:19:49.731706: I tensorflow/core/platform/cpu_feature_guard.cc:142] This TensorFlow binary is optimized with oneAPI Deep Neural Network Library (oneDNN) to use the following CPU instructions in performance-critical operations:  AVX2 AVX512F FMA\n",
      "To enable them in other operations, rebuild TensorFlow with the appropriate compiler flags.\n",
      "2022-05-27 13:19:49.731985: I tensorflow/stream_executor/cuda/cuda_gpu_executor.cc:937] successful NUMA node read from SysFS had negative value (-1), but there must be at least one NUMA node, so returning NUMA node zero\n",
      "2022-05-27 13:19:49.732661: I tensorflow/stream_executor/cuda/cuda_gpu_executor.cc:937] successful NUMA node read from SysFS had negative value (-1), but there must be at least one NUMA node, so returning NUMA node zero\n",
      "2022-05-27 13:19:49.733326: I tensorflow/stream_executor/cuda/cuda_gpu_executor.cc:937] successful NUMA node read from SysFS had negative value (-1), but there must be at least one NUMA node, so returning NUMA node zero\n",
      "2022-05-27 13:19:52.202392: I tensorflow/stream_executor/cuda/cuda_gpu_executor.cc:937] successful NUMA node read from SysFS had negative value (-1), but there must be at least one NUMA node, so returning NUMA node zero\n",
      "2022-05-27 13:19:52.203264: I tensorflow/stream_executor/cuda/cuda_gpu_executor.cc:937] successful NUMA node read from SysFS had negative value (-1), but there must be at least one NUMA node, so returning NUMA node zero\n",
      "2022-05-27 13:19:52.203918: I tensorflow/stream_executor/cuda/cuda_gpu_executor.cc:937] successful NUMA node read from SysFS had negative value (-1), but there must be at least one NUMA node, so returning NUMA node zero\n",
      "2022-05-27 13:19:52.205284: I tensorflow/core/common_runtime/gpu/gpu_device.cc:1510] Created device /job:localhost/replica:0/task:0/device:GPU:0 with 15403 MB memory:  -> device: 0, name: Tesla P100-PCIE-16GB, pci bus id: 0000:00:04.0, compute capability: 6.0\n"
     ]
    }
   ],
   "source": [
    "import warnings\n",
    "warnings.filterwarnings('ignore')\n",
    "from tensorflow.keras.models import Model, Sequential\n",
    "from tensorflow.keras.layers import Dense, Flatten, Conv2D, MaxPooling2D\n",
    "warnings.filterwarnings('ignore')\n",
    "\n",
    "model = Sequential([\n",
    "    Conv2D(16, (3, 3), activation='relu', input_shape=(IMG_HEIGHT, IMG_WIDTH, 3)), \n",
    "    MaxPooling2D(2, 2),\n",
    "    Conv2D(32, (3, 3), activation='relu'), \n",
    "    MaxPooling2D(2, 2),\n",
    "    Conv2D(64, (3, 3), activation='relu'),\n",
    "    Conv2D(64, (3, 3), activation='relu'),\n",
    "    MaxPooling2D(2, 2),\n",
    "    Conv2D(128, (3, 3), activation='relu'),\n",
    "    Conv2D(128, (3, 3), activation='relu'),\n",
    "    MaxPooling2D(2, 2),\n",
    "    Conv2D(256, (3, 3), activation='relu'),\n",
    "    Conv2D(256, (3, 3), activation='relu'),\n",
    "    Conv2D(256, (3, 3), activation='relu'),\n",
    "    MaxPooling2D(2, 2),\n",
    "    Flatten(),\n",
    "    Dense(512, activation='relu'),\n",
    "    Dense(512, activation='relu'),\n",
    "    Dense(11, activation='softmax')\n",
    "], name='CNN')\n",
    "\n",
    "model.summary()"
   ]
  },
  {
   "cell_type": "markdown",
   "id": "d385f680",
   "metadata": {
    "papermill": {
     "duration": 0.040501,
     "end_time": "2022-05-27T13:19:52.729134",
     "exception": false,
     "start_time": "2022-05-27T13:19:52.688633",
     "status": "completed"
    },
    "tags": []
   },
   "source": [
    "### Step 3.3: Model Optimizer"
   ]
  },
  {
   "cell_type": "code",
   "execution_count": 17,
   "id": "aab67663",
   "metadata": {
    "execution": {
     "iopub.execute_input": "2022-05-27T13:19:52.812574Z",
     "iopub.status.busy": "2022-05-27T13:19:52.812357Z",
     "iopub.status.idle": "2022-05-27T13:19:52.824314Z",
     "shell.execute_reply": "2022-05-27T13:19:52.823624Z"
    },
    "papermill": {
     "duration": 0.05545,
     "end_time": "2022-05-27T13:19:52.825951",
     "exception": false,
     "start_time": "2022-05-27T13:19:52.770501",
     "status": "completed"
    },
    "tags": []
   },
   "outputs": [],
   "source": [
    "from tensorflow.keras.optimizers import Adam\n",
    "# from tensorflow.keras.optimizers import SGD\n",
    "\n",
    "model.compile(loss=\"binary_crossentropy\", optimizer=Adam(lr=1e-4), metrics=[\"accuracy\"])\n",
    "# model.compile(loss=\"binary_crossentropy\", optimizer=SGD(lr=1e-4, momentum=0.9), metrics=[\"accuracy\"])"
   ]
  },
  {
   "cell_type": "markdown",
   "id": "50c9eb2c",
   "metadata": {
    "papermill": {
     "duration": 0.04032,
     "end_time": "2022-05-27T13:19:52.906731",
     "exception": false,
     "start_time": "2022-05-27T13:19:52.866411",
     "status": "completed"
    },
    "tags": []
   },
   "source": [
    "### Step 3.4: Model Checkpoint & EarlyStopping Callback"
   ]
  },
  {
   "cell_type": "code",
   "execution_count": 18,
   "id": "10204c0d",
   "metadata": {
    "execution": {
     "iopub.execute_input": "2022-05-27T13:19:52.997525Z",
     "iopub.status.busy": "2022-05-27T13:19:52.996905Z",
     "iopub.status.idle": "2022-05-27T13:19:53.005804Z",
     "shell.execute_reply": "2022-05-27T13:19:53.004687Z"
    },
    "papermill": {
     "duration": 0.059096,
     "end_time": "2022-05-27T13:19:53.008955",
     "exception": false,
     "start_time": "2022-05-27T13:19:52.949859",
     "status": "completed"
    },
    "tags": []
   },
   "outputs": [],
   "source": [
    "from tensorflow.keras.callbacks import EarlyStopping, ModelCheckpoint\n",
    "# autosave best Model\n",
    "checkpoint_path = './training/vgg16_best_model.ckpt'\n",
    "checkpoint_dir = os.path.dirname(checkpoint_path)\n",
    "early = EarlyStopping(monitor='val_accuracy', mode='max', verbose=1, patience=5)\n",
    "checkpoint = ModelCheckpoint(checkpoint_path, monitor='val_acc', verbose=1, save_best_only=True, mode='max')"
   ]
  },
  {
   "cell_type": "markdown",
   "id": "f3965060",
   "metadata": {
    "papermill": {
     "duration": 0.040188,
     "end_time": "2022-05-27T13:19:53.094644",
     "exception": false,
     "start_time": "2022-05-27T13:19:53.054456",
     "status": "completed"
    },
    "tags": []
   },
   "source": [
    "### Step 3.5: Model Training"
   ]
  },
  {
   "cell_type": "code",
   "execution_count": 19,
   "id": "8d5521e4",
   "metadata": {
    "execution": {
     "iopub.execute_input": "2022-05-27T13:19:53.214861Z",
     "iopub.status.busy": "2022-05-27T13:19:53.214648Z",
     "iopub.status.idle": "2022-05-27T13:51:49.806798Z",
     "shell.execute_reply": "2022-05-27T13:51:49.805344Z"
    },
    "papermill": {
     "duration": 1916.659526,
     "end_time": "2022-05-27T13:51:49.810343",
     "exception": false,
     "start_time": "2022-05-27T13:19:53.150817",
     "status": "completed"
    },
    "tags": []
   },
   "outputs": [
    {
     "name": "stderr",
     "output_type": "stream",
     "text": [
      "2022-05-27 13:19:53.582664: I tensorflow/compiler/mlir/mlir_graph_optimization_pass.cc:185] None of the MLIR Optimization Passes are enabled (registered 2)\n"
     ]
    },
    {
     "name": "stdout",
     "output_type": "stream",
     "text": [
      "Epoch 1/50\n"
     ]
    },
    {
     "name": "stderr",
     "output_type": "stream",
     "text": [
      "2022-05-27 13:19:55.581248: I tensorflow/stream_executor/cuda/cuda_dnn.cc:369] Loaded cuDNN version 8005\n"
     ]
    },
    {
     "name": "stdout",
     "output_type": "stream",
     "text": [
      "312/312 [==============================] - 86s 248ms/step - loss: 0.3176 - accuracy: 0.1809 - val_loss: 0.2953 - val_accuracy: 0.1896\n",
      "Epoch 2/50\n",
      "312/312 [==============================] - 77s 248ms/step - loss: 0.2451 - accuracy: 0.3802 - val_loss: 0.2165 - val_accuracy: 0.4794\n",
      "Epoch 3/50\n",
      "312/312 [==============================] - 78s 249ms/step - loss: 0.2003 - accuracy: 0.5132 - val_loss: 0.1803 - val_accuracy: 0.5564\n",
      "Epoch 4/50\n",
      "312/312 [==============================] - 77s 248ms/step - loss: 0.1866 - accuracy: 0.5449 - val_loss: 0.1788 - val_accuracy: 0.5635\n",
      "Epoch 5/50\n",
      "312/312 [==============================] - 77s 248ms/step - loss: 0.1803 - accuracy: 0.5509 - val_loss: 0.1702 - val_accuracy: 0.5814\n",
      "Epoch 6/50\n",
      "312/312 [==============================] - 79s 252ms/step - loss: 0.1745 - accuracy: 0.5661 - val_loss: 0.1640 - val_accuracy: 0.5868\n",
      "Epoch 7/50\n",
      "312/312 [==============================] - 78s 249ms/step - loss: 0.1727 - accuracy: 0.5735 - val_loss: 0.1678 - val_accuracy: 0.6011\n",
      "Epoch 8/50\n",
      "312/312 [==============================] - 78s 250ms/step - loss: 0.1710 - accuracy: 0.5805 - val_loss: 0.1581 - val_accuracy: 0.6011\n",
      "Epoch 9/50\n",
      "312/312 [==============================] - 78s 251ms/step - loss: 0.1685 - accuracy: 0.5921 - val_loss: 0.1626 - val_accuracy: 0.6190\n",
      "Epoch 10/50\n",
      "312/312 [==============================] - 79s 253ms/step - loss: 0.1662 - accuracy: 0.5954 - val_loss: 0.1525 - val_accuracy: 0.6261\n",
      "Epoch 11/50\n",
      "312/312 [==============================] - 78s 251ms/step - loss: 0.1627 - accuracy: 0.6072 - val_loss: 0.1562 - val_accuracy: 0.6136\n",
      "Epoch 12/50\n",
      "312/312 [==============================] - 80s 258ms/step - loss: 0.1584 - accuracy: 0.6180 - val_loss: 0.1555 - val_accuracy: 0.6369\n",
      "Epoch 13/50\n",
      "312/312 [==============================] - 79s 253ms/step - loss: 0.1566 - accuracy: 0.6140 - val_loss: 0.1594 - val_accuracy: 0.5886\n",
      "Epoch 14/50\n",
      "312/312 [==============================] - 81s 261ms/step - loss: 0.1557 - accuracy: 0.6220 - val_loss: 0.1512 - val_accuracy: 0.6422\n",
      "Epoch 15/50\n",
      "312/312 [==============================] - 79s 254ms/step - loss: 0.1554 - accuracy: 0.6300 - val_loss: 0.1553 - val_accuracy: 0.6243\n",
      "Epoch 16/50\n",
      "312/312 [==============================] - 81s 259ms/step - loss: 0.1515 - accuracy: 0.6366 - val_loss: 0.1440 - val_accuracy: 0.6440\n",
      "Epoch 17/50\n",
      "312/312 [==============================] - 81s 260ms/step - loss: 0.1503 - accuracy: 0.6428 - val_loss: 0.1577 - val_accuracy: 0.6047\n",
      "Epoch 18/50\n",
      "312/312 [==============================] - 80s 257ms/step - loss: 0.1501 - accuracy: 0.6342 - val_loss: 0.1481 - val_accuracy: 0.6583\n",
      "Epoch 19/50\n",
      "312/312 [==============================] - 81s 260ms/step - loss: 0.1464 - accuracy: 0.6548 - val_loss: 0.1421 - val_accuracy: 0.6726\n",
      "Epoch 20/50\n",
      "312/312 [==============================] - 80s 257ms/step - loss: 0.1456 - accuracy: 0.6532 - val_loss: 0.1370 - val_accuracy: 0.6583\n",
      "Epoch 21/50\n",
      "312/312 [==============================] - 82s 263ms/step - loss: 0.1448 - accuracy: 0.6534 - val_loss: 0.1545 - val_accuracy: 0.6100\n",
      "Epoch 22/50\n",
      "312/312 [==============================] - 80s 258ms/step - loss: 0.1445 - accuracy: 0.6520 - val_loss: 0.1466 - val_accuracy: 0.6476\n",
      "Epoch 23/50\n",
      "312/312 [==============================] - 80s 258ms/step - loss: 0.1411 - accuracy: 0.6671 - val_loss: 0.1417 - val_accuracy: 0.6512\n",
      "Epoch 24/50\n",
      "312/312 [==============================] - 83s 265ms/step - loss: 0.1388 - accuracy: 0.6667 - val_loss: 0.1477 - val_accuracy: 0.6315\n",
      "Epoch 00024: early stopping\n"
     ]
    }
   ],
   "source": [
    "history = model.fit_generator(train_generator,\n",
    "                              epochs=50,\n",
    "                              verbose=1,\n",
    "                              validation_data=valid_generator,\n",
    "                              callbacks = [checkpoint, early])"
   ]
  },
  {
   "cell_type": "markdown",
   "id": "115740c7",
   "metadata": {
    "papermill": {
     "duration": 2.62322,
     "end_time": "2022-05-27T13:51:54.936762",
     "exception": false,
     "start_time": "2022-05-27T13:51:52.313542",
     "status": "completed"
    },
    "tags": []
   },
   "source": [
    "## Step 4: Model Evaluation"
   ]
  },
  {
   "cell_type": "code",
   "execution_count": 20,
   "id": "f6b552cf",
   "metadata": {
    "execution": {
     "iopub.execute_input": "2022-05-27T13:51:59.753009Z",
     "iopub.status.busy": "2022-05-27T13:51:59.752744Z",
     "iopub.status.idle": "2022-05-27T13:52:03.280796Z",
     "shell.execute_reply": "2022-05-27T13:52:03.278922Z"
    },
    "papermill": {
     "duration": 5.989852,
     "end_time": "2022-05-27T13:52:03.283170",
     "exception": false,
     "start_time": "2022-05-27T13:51:57.293318",
     "status": "completed"
    },
    "tags": []
   },
   "outputs": [
    {
     "name": "stdout",
     "output_type": "stream",
     "text": [
      "Loss: 0.1477 Accuracy: 0.6315\n"
     ]
    }
   ],
   "source": [
    "evl = model.evaluate_generator(valid_generator)\n",
    "print(\"Loss: {:0.4f}\".format(evl[0]), \"Accuracy: {:0.4f}\".format(evl[1]))"
   ]
  },
  {
   "cell_type": "markdown",
   "id": "180f0452",
   "metadata": {
    "papermill": {
     "duration": 2.370673,
     "end_time": "2022-05-27T13:52:08.321991",
     "exception": false,
     "start_time": "2022-05-27T13:52:05.951318",
     "status": "completed"
    },
    "tags": []
   },
   "source": [
    "### Step 4.1: Performance Visusalization"
   ]
  },
  {
   "cell_type": "code",
   "execution_count": 21,
   "id": "6df34659",
   "metadata": {
    "execution": {
     "iopub.execute_input": "2022-05-27T13:52:13.116368Z",
     "iopub.status.busy": "2022-05-27T13:52:13.116109Z",
     "iopub.status.idle": "2022-05-27T13:52:13.312157Z",
     "shell.execute_reply": "2022-05-27T13:52:13.311540Z"
    },
    "papermill": {
     "duration": 2.570745,
     "end_time": "2022-05-27T13:52:13.313772",
     "exception": false,
     "start_time": "2022-05-27T13:52:10.743027",
     "status": "completed"
    },
    "tags": []
   },
   "outputs": [
    {
     "data": {
      "image/png": "[encoded data removed]",
      "text/plain": [
       "<Figure size 432x288 with 1 Axes>"
      ]
     },
     "metadata": {
      "needs_background": "light"
     },
     "output_type": "display_data"
    }
   ],
   "source": [
    "acc = history.history['accuracy']\n",
    "val_acc = history.history['val_accuracy']\n",
    "loss = history.history['loss']\n",
    "val_loss = history.history['val_loss']\n",
    "\n",
    "epochs=range(len(acc))\n",
    "\n",
    "import matplotlib.pyplot as plt\n",
    "plt.plot(epochs, acc, 'r', label=\"Training Accuracy\")\n",
    "plt.plot(epochs, val_acc, 'b', label=\"Validation Accuracy\")\n",
    "plt.plot(epochs, loss, 'r', label=\"Training Loss\")\n",
    "plt.plot(epochs, val_loss, 'b', label=\"Validation Loss\")\n",
    "plt.title(\"Model Accuracy\")\n",
    "plt.ylabel(\"Accuracy\")\n",
    "plt.xlabel(\"Epoch\")\n",
    "plt.legend([\"Accuracy\",\"Validation Accuracy\",\"loss\",\"Validation Loss\"])\n",
    "plt.show()"
   ]
  },
  {
   "cell_type": "markdown",
   "id": "d7c02346",
   "metadata": {
    "papermill": {
     "duration": 2.441972,
     "end_time": "2022-05-27T13:52:18.420217",
     "exception": false,
     "start_time": "2022-05-27T13:52:15.978245",
     "status": "completed"
    },
    "tags": []
   },
   "source": [
    "## Step 5: Model Prediction"
   ]
  },
  {
   "cell_type": "markdown",
   "id": "704d2ff5",
   "metadata": {
    "papermill": {
     "duration": 2.900501,
     "end_time": "2022-05-27T13:52:23.711121",
     "exception": false,
     "start_time": "2022-05-27T13:52:20.810620",
     "status": "completed"
    },
    "tags": []
   },
   "source": [
    "### Step 5.1: Reading Test Images into a Dataframe"
   ]
  },
  {
   "cell_type": "code",
   "execution_count": 22,
   "id": "dfb17a98",
   "metadata": {
    "execution": {
     "iopub.execute_input": "2022-05-27T13:52:28.697105Z",
     "iopub.status.busy": "2022-05-27T13:52:28.696823Z",
     "iopub.status.idle": "2022-05-27T13:52:28.707307Z",
     "shell.execute_reply": "2022-05-27T13:52:28.706147Z"
    },
    "papermill": {
     "duration": 2.356537,
     "end_time": "2022-05-27T13:52:28.709567",
     "exception": false,
     "start_time": "2022-05-27T13:52:26.353030",
     "status": "completed"
    },
    "tags": []
   },
   "outputs": [
    {
     "name": "stdout",
     "output_type": "stream",
     "text": [
      "Number of Loaded Test Data Samples:  1300\n"
     ]
    }
   ],
   "source": [
    "import pandas as pd\n",
    "TEST_DIR = './Dataset/Test'\n",
    "img_path = os.listdir(TEST_DIR)\n",
    "test_df = pd.DataFrame({'image_name': img_path})\n",
    "n_test_samples = test_df.shape[0]\n",
    "print(\"Number of Loaded Test Data Samples: \", n_test_samples)"
   ]
  },
  {
   "cell_type": "markdown",
   "id": "72c4b9ae",
   "metadata": {
    "papermill": {
     "duration": 2.421998,
     "end_time": "2022-05-27T13:52:33.499297",
     "exception": false,
     "start_time": "2022-05-27T13:52:31.077299",
     "status": "completed"
    },
    "tags": []
   },
   "source": [
    "### Step 5.2: Test Image Data Generator"
   ]
  },
  {
   "cell_type": "code",
   "execution_count": 23,
   "id": "fce9ea02",
   "metadata": {
    "execution": {
     "iopub.execute_input": "2022-05-27T13:52:38.446171Z",
     "iopub.status.busy": "2022-05-27T13:52:38.445726Z",
     "iopub.status.idle": "2022-05-27T13:52:38.471671Z",
     "shell.execute_reply": "2022-05-27T13:52:38.470546Z"
    },
    "papermill": {
     "duration": 2.629702,
     "end_time": "2022-05-27T13:52:38.473308",
     "exception": false,
     "start_time": "2022-05-27T13:52:35.843606",
     "status": "completed"
    },
    "tags": []
   },
   "outputs": [
    {
     "name": "stdout",
     "output_type": "stream",
     "text": [
      "Found 1300 validated image filenames.\n"
     ]
    }
   ],
   "source": [
    "test_datagen = ImageDataGenerator(rescale = 1/255.0)\n",
    "\n",
    "test_generator = test_datagen.flow_from_dataframe(test_df, \n",
    "                                                  directory=TEST_DIR,\n",
    "                                                  x_col='image_name',\n",
    "                                                  target_size=(IMG_HEIGHT, IMG_WIDTH),\n",
    "                                                  y_col=None,\n",
    "                                                  batch_size=1,\n",
    "                                                  class_mode=None,\n",
    "                                                  shuffle=False)"
   ]
  },
  {
   "cell_type": "code",
   "execution_count": 24,
   "id": "cdbc1bc6",
   "metadata": {
    "execution": {
     "iopub.execute_input": "2022-05-27T13:52:43.257891Z",
     "iopub.status.busy": "2022-05-27T13:52:43.257588Z",
     "iopub.status.idle": "2022-05-27T13:52:52.374405Z",
     "shell.execute_reply": "2022-05-27T13:52:52.373742Z"
    },
    "papermill": {
     "duration": 11.535267,
     "end_time": "2022-05-27T13:52:52.376231",
     "exception": false,
     "start_time": "2022-05-27T13:52:40.840964",
     "status": "completed"
    },
    "tags": []
   },
   "outputs": [
    {
     "data": {
      "text/html": [
       "<div>\n",
       "<style scoped>\n",
       "    .dataframe tbody tr th:only-of-type {\n",
       "        vertical-align: middle;\n",
       "    }\n",
       "\n",
       "    .dataframe tbody tr th {\n",
       "        vertical-align: top;\n",
       "    }\n",
       "\n",
       "    .dataframe thead th {\n",
       "        text-align: right;\n",
       "    }\n",
       "</style>\n",
       "<table border=\"1\" class=\"dataframe\">\n",
       "  <thead>\n",
       "    <tr style=\"text-align: right;\">\n",
       "      <th></th>\n",
       "      <th>image_name</th>\n",
       "      <th>label</th>\n",
       "    </tr>\n",
       "  </thead>\n",
       "  <tbody>\n",
       "    <tr>\n",
       "      <th>0</th>\n",
       "      <td>test_835.jpg</td>\n",
       "      <td>0</td>\n",
       "    </tr>\n",
       "    <tr>\n",
       "      <th>1</th>\n",
       "      <td>test_267.jpg</td>\n",
       "      <td>8</td>\n",
       "    </tr>\n",
       "    <tr>\n",
       "      <th>2</th>\n",
       "      <td>test_383.jpg</td>\n",
       "      <td>8</td>\n",
       "    </tr>\n",
       "    <tr>\n",
       "      <th>3</th>\n",
       "      <td>test_764.jpg</td>\n",
       "      <td>10</td>\n",
       "    </tr>\n",
       "    <tr>\n",
       "      <th>4</th>\n",
       "      <td>test_918.jpg</td>\n",
       "      <td>8</td>\n",
       "    </tr>\n",
       "  </tbody>\n",
       "</table>\n",
       "</div>"
      ],
      "text/plain": [
       "     image_name  label\n",
       "0  test_835.jpg      0\n",
       "1  test_267.jpg      8\n",
       "2  test_383.jpg      8\n",
       "3  test_764.jpg     10\n",
       "4  test_918.jpg      8"
      ]
     },
     "execution_count": 24,
     "metadata": {},
     "output_type": "execute_result"
    }
   ],
   "source": [
    "import numpy as np\n",
    "\n",
    "pred_array = model.predict(test_generator, steps=np.ceil(n_test_samples/1.0))\n",
    "predictions = np.argmax(pred_array, axis=1)\n",
    "test_df['label'] = predictions\n",
    "test_df.head()"
   ]
  },
  {
   "cell_type": "markdown",
   "id": "2068cc41",
   "metadata": {
    "papermill": {
     "duration": 2.912778,
     "end_time": "2022-05-27T13:52:57.645911",
     "exception": false,
     "start_time": "2022-05-27T13:52:54.733133",
     "status": "completed"
    },
    "tags": []
   },
   "source": [
    "## Step 6: Model Saving"
   ]
  },
  {
   "cell_type": "code",
   "execution_count": 25,
   "id": "b325afd9",
   "metadata": {
    "execution": {
     "iopub.execute_input": "2022-05-27T13:53:02.640245Z",
     "iopub.status.busy": "2022-05-27T13:53:02.639966Z",
     "iopub.status.idle": "2022-05-27T13:53:02.743111Z",
     "shell.execute_reply": "2022-05-27T13:53:02.742367Z"
    },
    "papermill": {
     "duration": 2.468959,
     "end_time": "2022-05-27T13:53:02.744980",
     "exception": false,
     "start_time": "2022-05-27T13:53:00.276021",
     "status": "completed"
    },
    "tags": []
   },
   "outputs": [],
   "source": [
    "model.save('cnn-model.h5')"
   ]
  },
  {
   "cell_type": "markdown",
   "id": "c27fdb06",
   "metadata": {
    "papermill": {
     "duration": 2.429555,
     "end_time": "2022-05-27T13:53:07.552086",
     "exception": false,
     "start_time": "2022-05-27T13:53:05.122531",
     "status": "completed"
    },
    "tags": []
   },
   "source": [
    "## Step 7: Submission File Creation"
   ]
  },
  {
   "cell_type": "code",
   "execution_count": 26,
   "id": "c0b928a2",
   "metadata": {
    "execution": {
     "iopub.execute_input": "2022-05-27T13:53:12.634648Z",
     "iopub.status.busy": "2022-05-27T13:53:12.634395Z",
     "iopub.status.idle": "2022-05-27T13:53:12.648231Z",
     "shell.execute_reply": "2022-05-27T13:53:12.647433Z"
    },
    "papermill": {
     "duration": 2.44444,
     "end_time": "2022-05-27T13:53:12.649958",
     "exception": false,
     "start_time": "2022-05-27T13:53:10.205518",
     "status": "completed"
    },
    "tags": []
   },
   "outputs": [
    {
     "name": "stdout",
     "output_type": "stream",
     "text": [
      "[START]: File Creation...\n",
      "[END]: File Creation!\n"
     ]
    }
   ],
   "source": [
    "print(\"[START]: File Creation...\")\n",
    "test_df.to_csv(r'./submission_3.csv', index=False)\n",
    "print(\"[END]: File Creation!\")"
   ]
  }
 ],
 "metadata": {
  "kernelspec": {
   "display_name": "Python 3",
   "language": "python",
   "name": "python3"
  },
  "language_info": {
   "codemirror_mode": {
    "name": "ipython",
    "version": 3
   },
   "file_extension": ".py",
   "mimetype": "text/x-python",
   "name": "python",
   "nbconvert_exporter": "python",
   "pygments_lexer": "ipython3",
   "version": "3.7.12"
  },
  "papermill": {
   "default_parameters": {},
   "duration": 2042.888251,
   "end_time": "2022-05-27T13:53:17.908932",
   "environment_variables": {},
   "exception": null,
   "input_path": "__notebook__.ipynb",
   "output_path": "__notebook__.ipynb",
   "parameters": {},
   "start_time": "2022-05-27T13:19:15.020681",
   "version": "2.3.4"
  }
 },
 "nbformat": 4,
 "nbformat_minor": 5
}
